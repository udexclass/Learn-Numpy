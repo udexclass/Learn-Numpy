{
 "cells": [
  {
   "attachments": {
    "numpyimg.png": {
     "image/png": "[encoded data removed]"
    }
   },
   "cell_type": "markdown",
   "id": "59548d94",
   "metadata": {},
   "source": [
    "![numpyimg.png](attachment:numpyimg.png)"
   ]
  },
  {
   "cell_type": "markdown",
   "id": "078e5870",
   "metadata": {},
   "source": [
    "# What is Numpy ?"
   ]
  },
  {
   "cell_type": "markdown",
   "id": "710a72ea",
   "metadata": {},
   "source": [
    "* Numpy is a Libraray which is used to scitific computing in Python . It is an python libraray which provide multidimensional array object ,and various derived object like matrics and masked array\n",
    "* At the core of the NumPy package, is the ndarray object. This encapsulates n-dimensional arrays of homogeneous data types"
   ]
  },
  {
   "cell_type": "markdown",
   "id": "67175452",
   "metadata": {},
   "source": [
    "# Why Use Numpy"
   ]
  },
  {
   "cell_type": "markdown",
   "id": "9381f493",
   "metadata": {},
   "source": [
    "* NumPy arrays are faster and more compact than Python lists. \n",
    "* An array consumes less memory and is convenient to use.\n",
    "* NumPy arrays facilitate advanced mathematical and other types of operations on large numbers of data.\n",
    "* NumPy uses much less memory to store data and it provides a mechanism of specifying the data types."
   ]
  },
  {
   "cell_type": "markdown",
   "id": "09713862",
   "metadata": {},
   "source": [
    "### Create Numpy Array"
   ]
  },
  {
   "cell_type": "markdown",
   "id": "e1c13c87",
   "metadata": {},
   "source": [
    "* First we Import the array \n",
    "import numpy as np"
   ]
  },
  {
   "cell_type": "code",
   "execution_count": 2,
   "id": "38d82813",
   "metadata": {},
   "outputs": [],
   "source": [
    "import numpy as np"
   ]
  },
  {
   "cell_type": "markdown",
   "id": "c89e4fce",
   "metadata": {},
   "source": [
    "* #### 1D array ----> It is Vector"
   ]
  },
  {
   "cell_type": "code",
   "execution_count": 3,
   "id": "f1946cb0",
   "metadata": {},
   "outputs": [],
   "source": [
    "a = np.array([1,2,3])"
   ]
  },
  {
   "cell_type": "code",
   "execution_count": 4,
   "id": "64fe41ce",
   "metadata": {},
   "outputs": [
    {
     "data": {
      "text/plain": [
       "array([1, 2, 3])"
      ]
     },
     "execution_count": 4,
     "metadata": {},
     "output_type": "execute_result"
    }
   ],
   "source": [
    "a"
   ]
  },
  {
   "cell_type": "markdown",
   "id": "205153f0",
   "metadata": {},
   "source": [
    "* #### 2D array ----> It is Matrics"
   ]
  },
  {
   "cell_type": "code",
   "execution_count": 5,
   "id": "4984cae1",
   "metadata": {},
   "outputs": [],
   "source": [
    "b=np.array([[1,2,3],[4,5,6]])"
   ]
  },
  {
   "cell_type": "code",
   "execution_count": 6,
   "id": "57db0dd4",
   "metadata": {},
   "outputs": [
    {
     "data": {
      "text/plain": [
       "array([[1, 2, 3],\n",
       "       [4, 5, 6]])"
      ]
     },
     "execution_count": 6,
     "metadata": {},
     "output_type": "execute_result"
    }
   ],
   "source": [
    "b"
   ]
  },
  {
   "cell_type": "markdown",
   "id": "84140195",
   "metadata": {},
   "source": [
    "* #### 3D array -----> It is Tensor"
   ]
  },
  {
   "cell_type": "code",
   "execution_count": 8,
   "id": "583c716e",
   "metadata": {},
   "outputs": [],
   "source": [
    "c=np.array([[[1,2],[3,4]],[[5,6],[7,8]]])"
   ]
  },
  {
   "cell_type": "code",
   "execution_count": 9,
   "id": "1f6e8939",
   "metadata": {},
   "outputs": [
    {
     "data": {
      "text/plain": [
       "array([[[1, 2],\n",
       "        [3, 4]],\n",
       "\n",
       "       [[5, 6],\n",
       "        [7, 8]]])"
      ]
     },
     "execution_count": 9,
     "metadata": {},
     "output_type": "execute_result"
    }
   ],
   "source": [
    "c"
   ]
  },
  {
   "cell_type": "markdown",
   "id": "04c51c82",
   "metadata": {},
   "source": [
    "* #### dtype ----> Create numpy array with different data type"
   ]
  },
  {
   "cell_type": "code",
   "execution_count": 36,
   "id": "4245cca9",
   "metadata": {},
   "outputs": [],
   "source": [
    "d=np.array([1,2,3,4],dtype='float')"
   ]
  },
  {
   "cell_type": "code",
   "execution_count": 37,
   "id": "5616be9b",
   "metadata": {},
   "outputs": [
    {
     "data": {
      "text/plain": [
       "array([1., 2., 3., 4.])"
      ]
     },
     "execution_count": 37,
     "metadata": {},
     "output_type": "execute_result"
    }
   ],
   "source": [
    "d"
   ]
  },
  {
   "cell_type": "markdown",
   "id": "400be6f8",
   "metadata": {},
   "source": [
    "* #### arange ----> Create a Numpy arrray with arange"
   ]
  },
  {
   "cell_type": "code",
   "execution_count": 38,
   "id": "bc900b8c",
   "metadata": {},
   "outputs": [
    {
     "data": {
      "text/plain": [
       "array([1, 2, 3, 4, 5, 6, 7])"
      ]
     },
     "execution_count": 38,
     "metadata": {},
     "output_type": "execute_result"
    }
   ],
   "source": [
    "np.arange(1,8)"
   ]
  },
  {
   "cell_type": "code",
   "execution_count": 39,
   "id": "7099ebc1",
   "metadata": {},
   "outputs": [
    {
     "data": {
      "text/plain": [
       "array([1, 3, 5, 7])"
      ]
     },
     "execution_count": 39,
     "metadata": {},
     "output_type": "execute_result"
    }
   ],
   "source": [
    "np.arange(1,8,2)"
   ]
  },
  {
   "cell_type": "markdown",
   "id": "b0a2359a",
   "metadata": {},
   "source": [
    "* #### Reshape ----> It reshape the existing array in different shape"
   ]
  },
  {
   "cell_type": "code",
   "execution_count": 40,
   "id": "c61e557b",
   "metadata": {},
   "outputs": [
    {
     "data": {
      "text/plain": [
       "array([[1, 2, 3, 4],\n",
       "       [5, 6, 7, 8]])"
      ]
     },
     "execution_count": 40,
     "metadata": {},
     "output_type": "execute_result"
    }
   ],
   "source": [
    "np.arange(1,9).reshape(2,4)"
   ]
  },
  {
   "cell_type": "code",
   "execution_count": 41,
   "id": "246953e8",
   "metadata": {},
   "outputs": [
    {
     "data": {
      "text/plain": [
       "array([[[1, 2],\n",
       "        [3, 4]],\n",
       "\n",
       "       [[5, 6],\n",
       "        [7, 8]]])"
      ]
     },
     "execution_count": 41,
     "metadata": {},
     "output_type": "execute_result"
    }
   ],
   "source": [
    "np.array([[[1,2],[3,4]],[[5,6],[7,8]]])"
   ]
  },
  {
   "cell_type": "code",
   "execution_count": 42,
   "id": "d06b320d",
   "metadata": {},
   "outputs": [
    {
     "data": {
      "text/plain": [
       "array([[1, 2],\n",
       "       [3, 4],\n",
       "       [5, 6],\n",
       "       [7, 8]])"
      ]
     },
     "execution_count": 42,
     "metadata": {},
     "output_type": "execute_result"
    }
   ],
   "source": [
    "np.array([[[1,2],[3,4]],[[5,6],[7,8]]]).reshape(4,2)"
   ]
  },
  {
   "cell_type": "markdown",
   "id": "59bb4e39",
   "metadata": {},
   "source": [
    "* #### np.zeros ----> Create Numpy array with all values is Zero"
   ]
  },
  {
   "cell_type": "code",
   "execution_count": 43,
   "id": "e134a84b",
   "metadata": {},
   "outputs": [
    {
     "data": {
      "text/plain": [
       "array([[0., 0., 0.],\n",
       "       [0., 0., 0.]])"
      ]
     },
     "execution_count": 43,
     "metadata": {},
     "output_type": "execute_result"
    }
   ],
   "source": [
    "np.zeros((2,3))"
   ]
  },
  {
   "cell_type": "markdown",
   "id": "00ac0f51",
   "metadata": {},
   "source": [
    "* #### np.ones ----> Create Numpy array with all values is One"
   ]
  },
  {
   "cell_type": "code",
   "execution_count": 44,
   "id": "6e2a9a11",
   "metadata": {},
   "outputs": [
    {
     "data": {
      "text/plain": [
       "array([[1., 1., 1.],\n",
       "       [1., 1., 1.]])"
      ]
     },
     "execution_count": 44,
     "metadata": {},
     "output_type": "execute_result"
    }
   ],
   "source": [
    "np.ones((2,3))"
   ]
  },
  {
   "cell_type": "markdown",
   "id": "c34ac853",
   "metadata": {},
   "source": [
    "* #### np.random ----> Create Numpy array with random values"
   ]
  },
  {
   "cell_type": "code",
   "execution_count": 45,
   "id": "4fa27563",
   "metadata": {},
   "outputs": [
    {
     "data": {
      "text/plain": [
       "array([[0.24618   , 0.88621888, 0.0190246 ],\n",
       "       [0.77622394, 0.32538202, 0.04069056],\n",
       "       [0.79732539, 0.07468467, 0.34395084]])"
      ]
     },
     "execution_count": 45,
     "metadata": {},
     "output_type": "execute_result"
    }
   ],
   "source": [
    "np.random.random((3,3))"
   ]
  },
  {
   "cell_type": "markdown",
   "id": "127fc5bb",
   "metadata": {},
   "source": [
    "* #### np.linspace ----> Create Numpy array with linearly space values"
   ]
  },
  {
   "cell_type": "code",
   "execution_count": 46,
   "id": "260c6eed",
   "metadata": {},
   "outputs": [
    {
     "data": {
      "text/plain": [
       "array([-10,  -5,   0,   5,  10])"
      ]
     },
     "execution_count": 46,
     "metadata": {},
     "output_type": "execute_result"
    }
   ],
   "source": [
    "np.linspace(-10,10,5,dtype=int)"
   ]
  },
  {
   "cell_type": "markdown",
   "id": "650adf9f",
   "metadata": {},
   "source": [
    "* #### np.identity ---> Create a identity matrix "
   ]
  },
  {
   "cell_type": "code",
   "execution_count": 47,
   "id": "adf200a0",
   "metadata": {},
   "outputs": [
    {
     "data": {
      "text/plain": [
       "array([[1., 0., 0.],\n",
       "       [0., 1., 0.],\n",
       "       [0., 0., 1.]])"
      ]
     },
     "execution_count": 47,
     "metadata": {},
     "output_type": "execute_result"
    }
   ],
   "source": [
    "np.identity(3)"
   ]
  },
  {
   "cell_type": "markdown",
   "id": "3796be81",
   "metadata": {},
   "source": [
    "### Array Attributes"
   ]
  },
  {
   "cell_type": "code",
   "execution_count": 48,
   "id": "93f8942c",
   "metadata": {},
   "outputs": [],
   "source": [
    "a1 = np.arange(8)\n",
    "a2 = np.arange(12,dtype=float).reshape(3,4)\n",
    "a3 = np.arange(8).reshape(2,2,2)"
   ]
  },
  {
   "cell_type": "markdown",
   "id": "3af7a2b7",
   "metadata": {},
   "source": [
    "* #### ndim  ---->  It give the dimension of the array"
   ]
  },
  {
   "cell_type": "code",
   "execution_count": 51,
   "id": "41697f44",
   "metadata": {},
   "outputs": [
    {
     "data": {
      "text/plain": [
       "3"
      ]
     },
     "execution_count": 51,
     "metadata": {},
     "output_type": "execute_result"
    }
   ],
   "source": [
    "a3.ndim"
   ]
  },
  {
   "cell_type": "markdown",
   "id": "bca90a17",
   "metadata": {},
   "source": [
    "* #### Shape  ---->  It give the Shape of the array or you can say number of rows and columns "
   ]
  },
  {
   "cell_type": "code",
   "execution_count": 59,
   "id": "d990099b",
   "metadata": {},
   "outputs": [
    {
     "name": "stdout",
     "output_type": "stream",
     "text": [
      "(2, 2, 2)\n",
      "[[[0 1]\n",
      "  [2 3]]\n",
      "\n",
      " [[4 5]\n",
      "  [6 7]]]\n"
     ]
    }
   ],
   "source": [
    "print(a3.shape) # Every 3D array is sum of 2D array and Each 2D array is sum of 1D array\n",
    "print(a3)"
   ]
  },
  {
   "cell_type": "markdown",
   "id": "0ef34cd5",
   "metadata": {},
   "source": [
    "* #### Size  ---->  It give the no. of items in the array"
   ]
  },
  {
   "cell_type": "code",
   "execution_count": 60,
   "id": "a542a77b",
   "metadata": {},
   "outputs": [
    {
     "data": {
      "text/plain": [
       "8"
      ]
     },
     "execution_count": 60,
     "metadata": {},
     "output_type": "execute_result"
    }
   ],
   "source": [
    "a3.size"
   ]
  },
  {
   "cell_type": "code",
   "execution_count": 61,
   "id": "9e82d598",
   "metadata": {},
   "outputs": [
    {
     "data": {
      "text/plain": [
       "12"
      ]
     },
     "execution_count": 61,
     "metadata": {},
     "output_type": "execute_result"
    }
   ],
   "source": [
    "a2.size"
   ]
  },
  {
   "cell_type": "markdown",
   "id": "33bbbc00",
   "metadata": {},
   "source": [
    "* #### itemsize  ---->  It give the information of how much space it received inside the memory"
   ]
  },
  {
   "cell_type": "code",
   "execution_count": 63,
   "id": "a88d24da",
   "metadata": {},
   "outputs": [
    {
     "name": "stdout",
     "output_type": "stream",
     "text": [
      "8\n",
      "8\n",
      "8\n"
     ]
    }
   ],
   "source": [
    "print(a1.itemsize)\n",
    "print(a2.itemsize)\n",
    "print(a3.itemsize)"
   ]
  },
  {
   "cell_type": "code",
   "execution_count": 64,
   "id": "3afaa8e0",
   "metadata": {},
   "outputs": [],
   "source": [
    "a1 = np.arange(8,dtype=np.int32)"
   ]
  },
  {
   "cell_type": "code",
   "execution_count": 67,
   "id": "d9c098e9",
   "metadata": {},
   "outputs": [
    {
     "data": {
      "text/plain": [
       "32"
      ]
     },
     "execution_count": 67,
     "metadata": {},
     "output_type": "execute_result"
    }
   ],
   "source": [
    "a1.itemsize*a1.size"
   ]
  },
  {
   "cell_type": "markdown",
   "id": "f745bd9e",
   "metadata": {},
   "source": [
    "* #### dtype  ---->  It give the informatio of data type of the array"
   ]
  },
  {
   "cell_type": "code",
   "execution_count": 68,
   "id": "f8a5953e",
   "metadata": {},
   "outputs": [
    {
     "data": {
      "text/plain": [
       "dtype('int32')"
      ]
     },
     "execution_count": 68,
     "metadata": {},
     "output_type": "execute_result"
    }
   ],
   "source": [
    "a1.dtype"
   ]
  },
  {
   "cell_type": "code",
   "execution_count": 69,
   "id": "f71e57b8",
   "metadata": {},
   "outputs": [
    {
     "data": {
      "text/plain": [
       "dtype('float64')"
      ]
     },
     "execution_count": 69,
     "metadata": {},
     "output_type": "execute_result"
    }
   ],
   "source": [
    "a2.dtype"
   ]
  },
  {
   "cell_type": "markdown",
   "id": "263aea7d",
   "metadata": {},
   "source": [
    "### Changing Datatype"
   ]
  },
  {
   "cell_type": "markdown",
   "id": "346f335b",
   "metadata": {},
   "source": [
    "* #### astype"
   ]
  },
  {
   "cell_type": "code",
   "execution_count": 70,
   "id": "2b52eb2d",
   "metadata": {},
   "outputs": [
    {
     "data": {
      "text/plain": [
       "array([[[0, 1],\n",
       "        [2, 3]],\n",
       "\n",
       "       [[4, 5],\n",
       "        [6, 7]]], dtype=int32)"
      ]
     },
     "execution_count": 70,
     "metadata": {},
     "output_type": "execute_result"
    }
   ],
   "source": [
    "a3.astype(np.int32)"
   ]
  },
  {
   "cell_type": "markdown",
   "id": "5219dc10",
   "metadata": {},
   "source": [
    "### Array Operations"
   ]
  },
  {
   "cell_type": "code",
   "execution_count": 71,
   "id": "bf2c3c5b",
   "metadata": {},
   "outputs": [
    {
     "data": {
      "text/plain": [
       "array([[12, 13, 14, 15],\n",
       "       [16, 17, 18, 19],\n",
       "       [20, 21, 22, 23]])"
      ]
     },
     "execution_count": 71,
     "metadata": {},
     "output_type": "execute_result"
    }
   ],
   "source": [
    "a1 = np.arange(12).reshape(3,4)\n",
    "a2 = np.arange(12,24).reshape(3,4)\n",
    "\n",
    "a2"
   ]
  },
  {
   "cell_type": "markdown",
   "id": "ca737a3f",
   "metadata": {},
   "source": [
    "* #### scalar operations"
   ]
  },
  {
   "cell_type": "code",
   "execution_count": 74,
   "id": "ebe22531",
   "metadata": {},
   "outputs": [
    {
     "data": {
      "text/plain": [
       "array([[  0,   1,   4,   9],\n",
       "       [ 16,  25,  36,  49],\n",
       "       [ 64,  81, 100, 121]])"
      ]
     },
     "execution_count": 74,
     "metadata": {},
     "output_type": "execute_result"
    }
   ],
   "source": [
    "a1 ** 2"
   ]
  },
  {
   "cell_type": "markdown",
   "id": "bf88a5ba",
   "metadata": {},
   "source": [
    "* #### Relational operation"
   ]
  },
  {
   "cell_type": "code",
   "execution_count": 75,
   "id": "423d0abe",
   "metadata": {},
   "outputs": [
    {
     "data": {
      "text/plain": [
       "array([[False, False, False, False],\n",
       "       [ True,  True,  True,  True],\n",
       "       [ True,  True,  True,  True]])"
      ]
     },
     "execution_count": 75,
     "metadata": {},
     "output_type": "execute_result"
    }
   ],
   "source": [
    "a2>15"
   ]
  },
  {
   "cell_type": "markdown",
   "id": "b1185da4",
   "metadata": {},
   "source": [
    "* #### Vector opertaions"
   ]
  },
  {
   "cell_type": "code",
   "execution_count": 77,
   "id": "e62c93c1",
   "metadata": {},
   "outputs": [
    {
     "data": {
      "text/plain": [
       "array([[12, 14, 16, 18],\n",
       "       [20, 22, 24, 26],\n",
       "       [28, 30, 32, 34]])"
      ]
     },
     "execution_count": 77,
     "metadata": {},
     "output_type": "execute_result"
    }
   ],
   "source": [
    "a1+a2"
   ]
  },
  {
   "cell_type": "markdown",
   "id": "e01e9a8c",
   "metadata": {},
   "source": [
    "### Array Function"
   ]
  },
  {
   "cell_type": "code",
   "execution_count": 81,
   "id": "dc94d0fb",
   "metadata": {},
   "outputs": [
    {
     "data": {
      "text/plain": [
       "array([[28.,  1.,  4.],\n",
       "       [28., 53., 91.],\n",
       "       [67., 57., 31.]])"
      ]
     },
     "execution_count": 81,
     "metadata": {},
     "output_type": "execute_result"
    }
   ],
   "source": [
    "a1 = np.random.random((3,3))\n",
    "a1 = np.round(a1*100)\n",
    "a1"
   ]
  },
  {
   "cell_type": "markdown",
   "id": "d59c08c8",
   "metadata": {},
   "source": [
    "* #### max/min/sum/prod\n",
    "# 0 -> col and 1 -> row\n"
   ]
  },
  {
   "cell_type": "code",
   "execution_count": 87,
   "id": "781d5969",
   "metadata": {},
   "outputs": [
    {
     "data": {
      "text/plain": [
       "array([52528.,  3021., 11284.])"
      ]
     },
     "execution_count": 87,
     "metadata": {},
     "output_type": "execute_result"
    }
   ],
   "source": [
    "np.prod(a1,axis=0)"
   ]
  },
  {
   "cell_type": "markdown",
   "id": "6b7c888c",
   "metadata": {},
   "source": [
    "* #### mean/median/std/var\n"
   ]
  },
  {
   "cell_type": "code",
   "execution_count": 89,
   "id": "47625a0a",
   "metadata": {},
   "outputs": [
    {
     "data": {
      "text/plain": [
       "array([146.        , 670.88888889, 230.22222222])"
      ]
     },
     "execution_count": 89,
     "metadata": {},
     "output_type": "execute_result"
    }
   ],
   "source": [
    "np.var(a1,axis=1)"
   ]
  },
  {
   "cell_type": "markdown",
   "id": "d5d839bc",
   "metadata": {},
   "source": [
    "* #### trigonomoetric functions"
   ]
  },
  {
   "cell_type": "code",
   "execution_count": 90,
   "id": "843ed335",
   "metadata": {},
   "outputs": [
    {
     "data": {
      "text/plain": [
       "array([[ 0.27090579,  0.84147098, -0.7568025 ],\n",
       "       [ 0.27090579,  0.39592515,  0.10598751],\n",
       "       [-0.85551998,  0.43616476, -0.40403765]])"
      ]
     },
     "execution_count": 90,
     "metadata": {},
     "output_type": "execute_result"
    }
   ],
   "source": [
    "np.sin(a1)"
   ]
  },
  {
   "cell_type": "markdown",
   "id": "f4fb8c19",
   "metadata": {},
   "source": [
    "* #### dot product"
   ]
  },
  {
   "cell_type": "code",
   "execution_count": 221,
   "id": "d24ce906",
   "metadata": {},
   "outputs": [],
   "source": [
    "a2 = np.arange(12).reshape(3,4)\n",
    "a3 = np.arange(12,24).reshape(4,3)"
   ]
  },
  {
   "cell_type": "code",
   "execution_count": 223,
   "id": "6fa7ef77",
   "metadata": {},
   "outputs": [
    {
     "data": {
      "text/plain": [
       "array([[ 0,  1,  2,  3],\n",
       "       [ 4,  5,  6,  7],\n",
       "       [ 8,  9, 10, 11]])"
      ]
     },
     "execution_count": 223,
     "metadata": {},
     "output_type": "execute_result"
    }
   ],
   "source": [
    "a2"
   ]
  },
  {
   "cell_type": "code",
   "execution_count": 93,
   "id": "d679fddd",
   "metadata": {},
   "outputs": [
    {
     "data": {
      "text/plain": [
       "array([[114, 120, 126],\n",
       "       [378, 400, 422],\n",
       "       [642, 680, 718]])"
      ]
     },
     "execution_count": 93,
     "metadata": {},
     "output_type": "execute_result"
    }
   ],
   "source": [
    "np.dot(a2,a3)"
   ]
  },
  {
   "cell_type": "markdown",
   "id": "5dbb27a4",
   "metadata": {},
   "source": [
    "* #### log and exponents"
   ]
  },
  {
   "cell_type": "code",
   "execution_count": 94,
   "id": "9f7620a1",
   "metadata": {},
   "outputs": [
    {
     "data": {
      "text/plain": [
       "array([[3.33220451, 0.        , 1.38629436],\n",
       "       [3.33220451, 3.97029191, 4.51085951],\n",
       "       [4.20469262, 4.04305127, 3.4339872 ]])"
      ]
     },
     "execution_count": 94,
     "metadata": {},
     "output_type": "execute_result"
    }
   ],
   "source": [
    "np.log(a1)"
   ]
  },
  {
   "cell_type": "markdown",
   "id": "da4ace60",
   "metadata": {},
   "source": [
    "* #### round/floor/ceil"
   ]
  },
  {
   "cell_type": "markdown",
   "id": "08c710fa",
   "metadata": {},
   "source": [
    "* ##### round ----> It take the nearest integer.\n",
    "* ##### floor ----> It take the left part of the given integer on the number line .\n",
    "* ##### ceil ----> It take the right part of the given integer on the number line ."
   ]
  },
  {
   "cell_type": "code",
   "execution_count": 106,
   "id": "57edbd8b",
   "metadata": {},
   "outputs": [
    {
     "data": {
      "text/plain": [
       "4.0"
      ]
     },
     "execution_count": 106,
     "metadata": {},
     "output_type": "execute_result"
    }
   ],
   "source": [
    "np.ceil(3.1)"
   ]
  },
  {
   "cell_type": "code",
   "execution_count": 109,
   "id": "9137ecc8",
   "metadata": {},
   "outputs": [
    {
     "data": {
      "text/plain": [
       "array([[28.,  1.,  4.],\n",
       "       [28., 53., 91.],\n",
       "       [67., 57., 31.]])"
      ]
     },
     "execution_count": 109,
     "metadata": {},
     "output_type": "execute_result"
    }
   ],
   "source": [
    "np.floor(a1)"
   ]
  },
  {
   "cell_type": "markdown",
   "id": "8f366b87",
   "metadata": {},
   "source": [
    "### Indexing and Slicing"
   ]
  },
  {
   "cell_type": "code",
   "execution_count": null,
   "id": "fd93a2ce",
   "metadata": {},
   "outputs": [],
   "source": [
    "a1 = np.arange(8)\n",
    "a2 = np.arange(12).reshape(3,4)\n",
    "a3 = np.arange(8).reshape(2,2,2)\n"
   ]
  },
  {
   "attachments": {
    "indexingpy.jpeg": {
     "image/jpeg": "[encoded data removed]"
    }
   },
   "cell_type": "markdown",
   "id": "4148fa6a",
   "metadata": {},
   "source": [
    "![indexingpy.jpeg](attachment:indexingpy.jpeg)"
   ]
  },
  {
   "cell_type": "markdown",
   "id": "c675584b",
   "metadata": {},
   "source": [
    "* Positive Indexing Start from 0 from Left to right\n",
    "* Negative Indexing Start from -1 from Right to left"
   ]
  },
  {
   "cell_type": "code",
   "execution_count": 119,
   "id": "ad71efd1",
   "metadata": {},
   "outputs": [
    {
     "data": {
      "text/plain": [
       "array([0, 1, 2, 3, 4, 5, 6, 7])"
      ]
     },
     "execution_count": 119,
     "metadata": {},
     "output_type": "execute_result"
    }
   ],
   "source": [
    "a1"
   ]
  },
  {
   "cell_type": "code",
   "execution_count": 120,
   "id": "4122493d",
   "metadata": {},
   "outputs": [
    {
     "data": {
      "text/plain": [
       "array([[ 0,  1,  2,  3],\n",
       "       [ 4,  5,  6,  7],\n",
       "       [ 8,  9, 10, 11]])"
      ]
     },
     "execution_count": 120,
     "metadata": {},
     "output_type": "execute_result"
    }
   ],
   "source": [
    "a2"
   ]
  },
  {
   "cell_type": "code",
   "execution_count": 121,
   "id": "a4eaf165",
   "metadata": {},
   "outputs": [
    {
     "data": {
      "text/plain": [
       "11"
      ]
     },
     "execution_count": 121,
     "metadata": {},
     "output_type": "execute_result"
    }
   ],
   "source": [
    "a2[2,3]"
   ]
  },
  {
   "cell_type": "code",
   "execution_count": 122,
   "id": "2383e3c8",
   "metadata": {},
   "outputs": [
    {
     "data": {
      "text/plain": [
       "array([[[0, 1],\n",
       "        [2, 3]],\n",
       "\n",
       "       [[4, 5],\n",
       "        [6, 7]]])"
      ]
     },
     "execution_count": 122,
     "metadata": {},
     "output_type": "execute_result"
    }
   ],
   "source": [
    "a3"
   ]
  },
  {
   "cell_type": "code",
   "execution_count": 123,
   "id": "e77185fd",
   "metadata": {},
   "outputs": [
    {
     "data": {
      "text/plain": [
       "2"
      ]
     },
     "execution_count": 123,
     "metadata": {},
     "output_type": "execute_result"
    }
   ],
   "source": [
    "a3[0,1,0]"
   ]
  },
  {
   "cell_type": "markdown",
   "id": "f1f77eab",
   "metadata": {},
   "source": [
    "* #### we fetch one item from the array with the help of indexing .\n",
    "* #### If we Want to Fetch more items at once then we are going to use the Slicing ."
   ]
  },
  {
   "cell_type": "code",
   "execution_count": 124,
   "id": "177098aa",
   "metadata": {},
   "outputs": [
    {
     "data": {
      "text/plain": [
       "array([0, 1, 2, 3, 4, 5, 6, 7])"
      ]
     },
     "execution_count": 124,
     "metadata": {},
     "output_type": "execute_result"
    }
   ],
   "source": [
    "a1"
   ]
  },
  {
   "cell_type": "code",
   "execution_count": 132,
   "id": "320e2683",
   "metadata": {},
   "outputs": [
    {
     "data": {
      "text/plain": [
       "array([2, 4])"
      ]
     },
     "execution_count": 132,
     "metadata": {},
     "output_type": "execute_result"
    }
   ],
   "source": [
    "a1[2:5:2]"
   ]
  },
  {
   "cell_type": "code",
   "execution_count": 133,
   "id": "75dc216a",
   "metadata": {},
   "outputs": [
    {
     "data": {
      "text/plain": [
       "array([[ 0,  1,  2,  3],\n",
       "       [ 4,  5,  6,  7],\n",
       "       [ 8,  9, 10, 11]])"
      ]
     },
     "execution_count": 133,
     "metadata": {},
     "output_type": "execute_result"
    }
   ],
   "source": [
    "a2"
   ]
  },
  {
   "cell_type": "code",
   "execution_count": 139,
   "id": "3641db54",
   "metadata": {},
   "outputs": [
    {
     "data": {
      "text/plain": [
       "array([4, 5, 6, 7])"
      ]
     },
     "execution_count": 139,
     "metadata": {},
     "output_type": "execute_result"
    }
   ],
   "source": [
    "#Now fetch the second row\n",
    "a2[1,:]"
   ]
  },
  {
   "cell_type": "code",
   "execution_count": 140,
   "id": "c5f8264e",
   "metadata": {},
   "outputs": [
    {
     "data": {
      "text/plain": [
       "array([ 2,  6, 10])"
      ]
     },
     "execution_count": 140,
     "metadata": {},
     "output_type": "execute_result"
    }
   ],
   "source": [
    "#Now fetch the third column\n",
    "a2[:,2]"
   ]
  },
  {
   "cell_type": "code",
   "execution_count": 141,
   "id": "bd4615ae",
   "metadata": {},
   "outputs": [
    {
     "data": {
      "text/plain": [
       "array([[ 5,  6],\n",
       "       [ 9, 10]])"
      ]
     },
     "execution_count": 141,
     "metadata": {},
     "output_type": "execute_result"
    }
   ],
   "source": [
    "#Now fetch the 5,6 and 9,10\n",
    "a2[1:,1:3]\n",
    "#here we check first which rows than which column.  a2[row_Start:row_end , col_start:col_end]"
   ]
  },
  {
   "cell_type": "code",
   "execution_count": 171,
   "id": "36fe5c50",
   "metadata": {},
   "outputs": [
    {
     "data": {
      "text/plain": [
       "array([[ 0,  3],\n",
       "       [ 8, 11]])"
      ]
     },
     "execution_count": 171,
     "metadata": {},
     "output_type": "execute_result"
    }
   ],
   "source": [
    "a2[0:3:2,0:4:3] #a2[::2,::3]"
   ]
  },
  {
   "cell_type": "code",
   "execution_count": 176,
   "id": "f28d57d2",
   "metadata": {},
   "outputs": [
    {
     "data": {
      "text/plain": [
       "array([[ 1,  3],\n",
       "       [ 9, 11]])"
      ]
     },
     "execution_count": 176,
     "metadata": {},
     "output_type": "execute_result"
    }
   ],
   "source": [
    "#fetch 1,3,9,11\n",
    "a2[0:3:2,1:4:2] #a2[::2,1::2]"
   ]
  },
  {
   "cell_type": "code",
   "execution_count": 184,
   "id": "22f057ff",
   "metadata": {},
   "outputs": [
    {
     "data": {
      "text/plain": [
       "array([4, 7])"
      ]
     },
     "execution_count": 184,
     "metadata": {},
     "output_type": "execute_result"
    }
   ],
   "source": [
    "#fetch 4 and 7\n",
    "a2[1,::3]  #a2[1,0::3]"
   ]
  },
  {
   "cell_type": "code",
   "execution_count": 142,
   "id": "c6026b03",
   "metadata": {},
   "outputs": [],
   "source": [
    "a3 = np.arange(27).reshape(3,3,3)"
   ]
  },
  {
   "cell_type": "code",
   "execution_count": 143,
   "id": "57f21ebc",
   "metadata": {},
   "outputs": [
    {
     "data": {
      "text/plain": [
       "array([[[ 0,  1,  2],\n",
       "        [ 3,  4,  5],\n",
       "        [ 6,  7,  8]],\n",
       "\n",
       "       [[ 9, 10, 11],\n",
       "        [12, 13, 14],\n",
       "        [15, 16, 17]],\n",
       "\n",
       "       [[18, 19, 20],\n",
       "        [21, 22, 23],\n",
       "        [24, 25, 26]]])"
      ]
     },
     "execution_count": 143,
     "metadata": {},
     "output_type": "execute_result"
    }
   ],
   "source": [
    "a3"
   ]
  },
  {
   "cell_type": "code",
   "execution_count": 188,
   "id": "bec4940f",
   "metadata": {},
   "outputs": [
    {
     "data": {
      "text/plain": [
       "array([3, 4, 5])"
      ]
     },
     "execution_count": 188,
     "metadata": {},
     "output_type": "execute_result"
    }
   ],
   "source": [
    "#fetch the second array of first 2d array -- 3,4,5\n",
    "a3[0,1]"
   ]
  },
  {
   "cell_type": "code",
   "execution_count": 189,
   "id": "17e533cc",
   "metadata": {},
   "outputs": [
    {
     "data": {
      "text/plain": [
       "array([10, 13, 16])"
      ]
     },
     "execution_count": 189,
     "metadata": {},
     "output_type": "execute_result"
    }
   ],
   "source": [
    "# fetch 10,13,16 \n",
    "a3[1,:,1]"
   ]
  },
  {
   "cell_type": "code",
   "execution_count": 193,
   "id": "83d95532",
   "metadata": {},
   "outputs": [
    {
     "data": {
      "text/plain": [
       "array([[22, 23],\n",
       "       [25, 26]])"
      ]
     },
     "execution_count": 193,
     "metadata": {},
     "output_type": "execute_result"
    }
   ],
   "source": [
    "#fetch 22,23,25,26\n",
    "a3[2,1:,1:]"
   ]
  },
  {
   "cell_type": "code",
   "execution_count": 196,
   "id": "d5700d8a",
   "metadata": {},
   "outputs": [
    {
     "data": {
      "text/plain": [
       "array([[ 0,  2],\n",
       "       [18, 20]])"
      ]
     },
     "execution_count": 196,
     "metadata": {},
     "output_type": "execute_result"
    }
   ],
   "source": [
    "#fetch 0,2,18,20\n",
    "a3[::2,0,::2]"
   ]
  },
  {
   "cell_type": "markdown",
   "id": "1c2a42e5",
   "metadata": {},
   "source": [
    "### Iteration"
   ]
  },
  {
   "cell_type": "code",
   "execution_count": 197,
   "id": "e05e7ff7",
   "metadata": {},
   "outputs": [],
   "source": [
    "a1 = np.arange(8)\n",
    "a2 = np.arange(12).reshape(3,4)\n",
    "a3 = np.arange(8).reshape(2,2,2)"
   ]
  },
  {
   "cell_type": "code",
   "execution_count": 198,
   "id": "602a3819",
   "metadata": {},
   "outputs": [
    {
     "data": {
      "text/plain": [
       "array([0, 1, 2, 3, 4, 5, 6, 7])"
      ]
     },
     "execution_count": 198,
     "metadata": {},
     "output_type": "execute_result"
    }
   ],
   "source": [
    "a1"
   ]
  },
  {
   "cell_type": "code",
   "execution_count": 199,
   "id": "a5238a6c",
   "metadata": {},
   "outputs": [
    {
     "name": "stdout",
     "output_type": "stream",
     "text": [
      "0\n",
      "1\n",
      "2\n",
      "3\n",
      "4\n",
      "5\n",
      "6\n",
      "7\n"
     ]
    }
   ],
   "source": [
    "# It print the elements insid array.\n",
    "for i in a1:\n",
    "    print(i)"
   ]
  },
  {
   "cell_type": "code",
   "execution_count": 200,
   "id": "0306cc6b",
   "metadata": {},
   "outputs": [
    {
     "data": {
      "text/plain": [
       "array([[ 0,  1,  2,  3],\n",
       "       [ 4,  5,  6,  7],\n",
       "       [ 8,  9, 10, 11]])"
      ]
     },
     "execution_count": 200,
     "metadata": {},
     "output_type": "execute_result"
    }
   ],
   "source": [
    "a2"
   ]
  },
  {
   "cell_type": "code",
   "execution_count": 202,
   "id": "9316dee0",
   "metadata": {},
   "outputs": [
    {
     "name": "stdout",
     "output_type": "stream",
     "text": [
      "[0 1 2 3]\n",
      "[4 5 6 7]\n",
      "[ 8  9 10 11]\n"
     ]
    }
   ],
   "source": [
    "# In 2D when you run the loop it print one row at a time\n",
    "for i in a2:\n",
    "    print(i)"
   ]
  },
  {
   "cell_type": "code",
   "execution_count": 203,
   "id": "8650293b",
   "metadata": {},
   "outputs": [
    {
     "data": {
      "text/plain": [
       "array([[[0, 1],\n",
       "        [2, 3]],\n",
       "\n",
       "       [[4, 5],\n",
       "        [6, 7]]])"
      ]
     },
     "execution_count": 203,
     "metadata": {},
     "output_type": "execute_result"
    }
   ],
   "source": [
    "a3"
   ]
  },
  {
   "cell_type": "code",
   "execution_count": 204,
   "id": "eeeb3ba1",
   "metadata": {},
   "outputs": [
    {
     "name": "stdout",
     "output_type": "stream",
     "text": [
      "[[0 1]\n",
      " [2 3]]\n",
      "[[4 5]\n",
      " [6 7]]\n"
     ]
    }
   ],
   "source": [
    "# In 3D when you run the loop it print the 2D array or matrics at a time.\n",
    "for i in a3:\n",
    "    print(i)"
   ]
  },
  {
   "cell_type": "code",
   "execution_count": 205,
   "id": "df40841f",
   "metadata": {},
   "outputs": [
    {
     "name": "stdout",
     "output_type": "stream",
     "text": [
      "0\n",
      "1\n",
      "2\n",
      "3\n",
      "4\n",
      "5\n",
      "6\n",
      "7\n"
     ]
    }
   ],
   "source": [
    "# If you want to print the each element of the 3D array then we need to use the np.nditer function for that .\n",
    "for i in np.nditer(a3):\n",
    "    print(i)"
   ]
  },
  {
   "cell_type": "markdown",
   "id": "872483cb",
   "metadata": {},
   "source": [
    "### Reshaping"
   ]
  },
  {
   "cell_type": "markdown",
   "id": "9a6e42ef",
   "metadata": {},
   "source": [
    "* #### Transpose  -----> Transpose try to transpose the given array "
   ]
  },
  {
   "cell_type": "code",
   "execution_count": 206,
   "id": "0008a6bc",
   "metadata": {},
   "outputs": [
    {
     "data": {
      "text/plain": [
       "array([[ 0,  4,  8],\n",
       "       [ 1,  5,  9],\n",
       "       [ 2,  6, 10],\n",
       "       [ 3,  7, 11]])"
      ]
     },
     "execution_count": 206,
     "metadata": {},
     "output_type": "execute_result"
    }
   ],
   "source": [
    "np.transpose(a2) # a2.T"
   ]
  },
  {
   "cell_type": "markdown",
   "id": "7829b944",
   "metadata": {},
   "source": [
    "* #### ravel  -----> Ravel reshpe the n-dimensional array into one dimenstion .It simply flatten the array\n"
   ]
  },
  {
   "cell_type": "code",
   "execution_count": 208,
   "id": "20c5ee38",
   "metadata": {},
   "outputs": [
    {
     "data": {
      "text/plain": [
       "array([0, 1, 2, 3, 4, 5, 6, 7])"
      ]
     },
     "execution_count": 208,
     "metadata": {},
     "output_type": "execute_result"
    }
   ],
   "source": [
    "a3.ravel()"
   ]
  },
  {
   "cell_type": "markdown",
   "id": "6413ea9f",
   "metadata": {},
   "source": [
    "### Stacking ---- > "
   ]
  },
  {
   "cell_type": "markdown",
   "id": "41e1bb7b",
   "metadata": {},
   "source": [
    "*  It simple means joining two array or more than two arrays"
   ]
  },
  {
   "cell_type": "markdown",
   "id": "bd227c32",
   "metadata": {},
   "source": [
    " ##### horizontal stacking "
   ]
  },
  {
   "cell_type": "markdown",
   "id": "df3bbde2",
   "metadata": {},
   "source": [
    "*  -----> In horizontal stacking when you join two array the number of rows remain same but the no. of columns is incresed by number of columns"
   ]
  },
  {
   "cell_type": "code",
   "execution_count": 250,
   "id": "c49883b4",
   "metadata": {},
   "outputs": [],
   "source": [
    "a1=np.arange(8).reshape(4,2)\n",
    "a2=np.arange(8,16).reshape(4,2)"
   ]
  },
  {
   "cell_type": "code",
   "execution_count": 253,
   "id": "65637219",
   "metadata": {},
   "outputs": [
    {
     "data": {
      "text/plain": [
       "array([[ 8,  9],\n",
       "       [10, 11],\n",
       "       [12, 13],\n",
       "       [14, 15]])"
      ]
     },
     "execution_count": 253,
     "metadata": {},
     "output_type": "execute_result"
    }
   ],
   "source": [
    "a2"
   ]
  },
  {
   "cell_type": "code",
   "execution_count": 214,
   "id": "c7eb8afe",
   "metadata": {},
   "outputs": [
    {
     "data": {
      "text/plain": [
       "array([[ 0,  1,  8,  9],\n",
       "       [ 2,  3, 10, 11],\n",
       "       [ 4,  5, 12, 13],\n",
       "       [ 6,  7, 14, 15]])"
      ]
     },
     "execution_count": 214,
     "metadata": {},
     "output_type": "execute_result"
    }
   ],
   "source": [
    "np.hstack((a1,a2))"
   ]
  },
  {
   "cell_type": "markdown",
   "id": "17948f66",
   "metadata": {},
   "source": [
    " ##### Vertical stacking "
   ]
  },
  {
   "cell_type": "markdown",
   "id": "249fafc3",
   "metadata": {},
   "source": [
    "*  -----> In Vertical stacking when you join two array the number of columns remain same but the no. of rows is incresed by no. of rows."
   ]
  },
  {
   "cell_type": "code",
   "execution_count": 215,
   "id": "8bb05c29",
   "metadata": {},
   "outputs": [
    {
     "data": {
      "text/plain": [
       "array([[ 0,  1],\n",
       "       [ 2,  3],\n",
       "       [ 4,  5],\n",
       "       [ 6,  7],\n",
       "       [ 8,  9],\n",
       "       [10, 11],\n",
       "       [12, 13],\n",
       "       [14, 15]])"
      ]
     },
     "execution_count": 215,
     "metadata": {},
     "output_type": "execute_result"
    }
   ],
   "source": [
    "np.vstack((a1,a2))"
   ]
  },
  {
   "cell_type": "markdown",
   "id": "31c7b3de",
   "metadata": {},
   "source": [
    "### Splitting"
   ]
  },
  {
   "cell_type": "markdown",
   "id": "f0cd9535",
   "metadata": {},
   "source": [
    "* Splitting is just the reverse of stacking "
   ]
  },
  {
   "cell_type": "markdown",
   "id": "b94ba773",
   "metadata": {},
   "source": [
    "##### Horizontal Splitting"
   ]
  },
  {
   "cell_type": "code",
   "execution_count": 216,
   "id": "28de5b16",
   "metadata": {},
   "outputs": [
    {
     "data": {
      "text/plain": [
       "array([[0, 1],\n",
       "       [2, 3],\n",
       "       [4, 5],\n",
       "       [6, 7]])"
      ]
     },
     "execution_count": 216,
     "metadata": {},
     "output_type": "execute_result"
    }
   ],
   "source": [
    "a1"
   ]
  },
  {
   "cell_type": "code",
   "execution_count": 217,
   "id": "62bb3ba8",
   "metadata": {},
   "outputs": [
    {
     "data": {
      "text/plain": [
       "[array([[0],\n",
       "        [2],\n",
       "        [4],\n",
       "        [6]]),\n",
       " array([[1],\n",
       "        [3],\n",
       "        [5],\n",
       "        [7]])]"
      ]
     },
     "execution_count": 217,
     "metadata": {},
     "output_type": "execute_result"
    }
   ],
   "source": [
    "\n",
    "np.hsplit(a1,2)"
   ]
  },
  {
   "cell_type": "markdown",
   "id": "057f1fc8",
   "metadata": {},
   "source": [
    "* Here Hsplit behave like the veticalsplit but don't be confused with this . It is totally opposite of hStack"
   ]
  },
  {
   "cell_type": "markdown",
   "id": "93e05308",
   "metadata": {},
   "source": [
    "##### Vertical Splitting"
   ]
  },
  {
   "cell_type": "code",
   "execution_count": 218,
   "id": "d45f49d5",
   "metadata": {},
   "outputs": [
    {
     "data": {
      "text/plain": [
       "[array([[0, 1],\n",
       "        [2, 3]]),\n",
       " array([[4, 5],\n",
       "        [6, 7]])]"
      ]
     },
     "execution_count": 218,
     "metadata": {},
     "output_type": "execute_result"
    }
   ],
   "source": [
    "np.vsplit(a1,2)"
   ]
  },
  {
   "cell_type": "code",
   "execution_count": 244,
   "id": "d7eb9aaa",
   "metadata": {},
   "outputs": [],
   "source": [
    "a2 = np.arange(6).reshape(2,3)\n",
    "a3 = np.arange(6,12).reshape(3,2)"
   ]
  },
  {
   "cell_type": "code",
   "execution_count": 245,
   "id": "59534814",
   "metadata": {},
   "outputs": [
    {
     "data": {
      "text/plain": [
       "array([[0, 1, 2],\n",
       "       [3, 4, 5]])"
      ]
     },
     "execution_count": 245,
     "metadata": {},
     "output_type": "execute_result"
    }
   ],
   "source": [
    "a2"
   ]
  },
  {
   "cell_type": "code",
   "execution_count": 246,
   "id": "b443d953",
   "metadata": {},
   "outputs": [
    {
     "data": {
      "text/plain": [
       "array([[ 6,  7],\n",
       "       [ 8,  9],\n",
       "       [10, 11]])"
      ]
     },
     "execution_count": 246,
     "metadata": {},
     "output_type": "execute_result"
    }
   ],
   "source": [
    "a3"
   ]
  },
  {
   "cell_type": "code",
   "execution_count": 247,
   "id": "70e0a8d3",
   "metadata": {},
   "outputs": [
    {
     "data": {
      "text/plain": [
       "array([[ 28,  31],\n",
       "       [100, 112]])"
      ]
     },
     "execution_count": 247,
     "metadata": {},
     "output_type": "execute_result"
    }
   ],
   "source": [
    "np.dot(a2,a3)"
   ]
  },
  {
   "cell_type": "code",
   "execution_count": null,
   "id": "aed38e31",
   "metadata": {},
   "outputs": [],
   "source": []
  }
 ],
 "metadata": {
  "kernelspec": {
   "display_name": "Python 3 (ipykernel)",
   "language": "python",
   "name": "python3"
  },
  "language_info": {
   "codemirror_mode": {
    "name": "ipython",
    "version": 3
   },
   "file_extension": ".py",
   "mimetype": "text/x-python",
   "name": "python",
   "nbconvert_exporter": "python",
   "pygments_lexer": "ipython3",
   "version": "3.9.13"
  }
 },
 "nbformat": 4,
 "nbformat_minor": 5
}
