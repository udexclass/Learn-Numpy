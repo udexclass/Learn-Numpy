{
 "cells": [
  {
   "attachments": {
    "numpyimg.png": {
     "image/png": "[encoded data removed]"
    }
   },
   "cell_type": "markdown",
   "id": "e640b2cf",
   "metadata": {},
   "source": [
    "![numpyimg.png](attachment:numpyimg.png)"
   ]
  },
  {
   "cell_type": "markdown",
   "id": "28eea0a4",
   "metadata": {},
   "source": [
    "# What is Numpy ?"
   ]
  },
  {
   "cell_type": "markdown",
   "id": "19874325",
   "metadata": {},
   "source": [
    "* Numpy is a Libraray which is used to scitific computing in Python . It is an python libraray which provide multidimensional array object ,and various derived object like matrics and masked array\n",
    "* At the core of the NumPy package, is the ndarray object. This encapsulates n-dimensional arrays of homogeneous data types"
   ]
  },
  {
   "cell_type": "markdown",
   "id": "ed585328",
   "metadata": {},
   "source": [
    "# Why Use Numpy Over List ?"
   ]
  },
  {
   "cell_type": "markdown",
   "id": "2a19b450",
   "metadata": {},
   "source": [
    "* NumPy arrays are faster and than Python lists because of fixed data type. Because In list we can store items with different Data type so it need to do type checking for every item stored in list but In Numpy we can store items with one data type\n",
    "* An array consumes less memory and is convenient to use.\n",
    "* NumPy arrays facilitate advanced mathematical and other types of operations on large numbers of data.\n",
    "* NumPy uses much less memory to store data and it provides a mechanism of specifying the data types."
   ]
  },
  {
   "cell_type": "markdown",
   "id": "fcf73b55",
   "metadata": {},
   "source": [
    "### Create Numpy Array"
   ]
  },
  {
   "cell_type": "markdown",
   "id": "6f63824c",
   "metadata": {},
   "source": [
    "* First we Import the Numpy \n",
    "import numpy as np"
   ]
  },
  {
   "cell_type": "code",
   "execution_count": 1,
   "id": "2926fd53",
   "metadata": {},
   "outputs": [],
   "source": [
    "import numpy as np"
   ]
  },
  {
   "cell_type": "markdown",
   "id": "145629d6",
   "metadata": {},
   "source": [
    "* #### 1D array ----> It is Vector"
   ]
  },
  {
   "cell_type": "code",
   "execution_count": 2,
   "id": "56358366",
   "metadata": {},
   "outputs": [],
   "source": [
    "a=np.array([1,2,3])"
   ]
  },
  {
   "cell_type": "code",
   "execution_count": 3,
   "id": "af814b2c",
   "metadata": {},
   "outputs": [
    {
     "data": {
      "text/plain": [
       "array([1, 2, 3])"
      ]
     },
     "execution_count": 3,
     "metadata": {},
     "output_type": "execute_result"
    }
   ],
   "source": [
    "a"
   ]
  },
  {
   "cell_type": "markdown",
   "id": "35fabddd",
   "metadata": {},
   "source": [
    "* #### 2D array ----> It is Matrics"
   ]
  },
  {
   "cell_type": "code",
   "execution_count": 4,
   "id": "5d59977b",
   "metadata": {},
   "outputs": [],
   "source": [
    "b=np.array([[1,2,3],[4,5,6]])"
   ]
  },
  {
   "cell_type": "code",
   "execution_count": 5,
   "id": "7304eb78",
   "metadata": {},
   "outputs": [
    {
     "data": {
      "text/plain": [
       "array([[1, 2, 3],\n",
       "       [4, 5, 6]])"
      ]
     },
     "execution_count": 5,
     "metadata": {},
     "output_type": "execute_result"
    }
   ],
   "source": [
    "b"
   ]
  },
  {
   "cell_type": "markdown",
   "id": "00a4c4d4",
   "metadata": {},
   "source": [
    "* #### 3D array -----> It is Tensor"
   ]
  },
  {
   "cell_type": "code",
   "execution_count": 6,
   "id": "933a2484",
   "metadata": {},
   "outputs": [],
   "source": [
    "c=np.array([[[1,2],[3,4]],[[5,6],[7,8]]])"
   ]
  },
  {
   "cell_type": "code",
   "execution_count": 7,
   "id": "a97702c0",
   "metadata": {},
   "outputs": [
    {
     "data": {
      "text/plain": [
       "array([[[1, 2],\n",
       "        [3, 4]],\n",
       "\n",
       "       [[5, 6],\n",
       "        [7, 8]]])"
      ]
     },
     "execution_count": 7,
     "metadata": {},
     "output_type": "execute_result"
    }
   ],
   "source": [
    "c"
   ]
  },
  {
   "cell_type": "markdown",
   "id": "41245462",
   "metadata": {},
   "source": [
    "* #### dtype ----> Create numpy array with different data type"
   ]
  },
  {
   "cell_type": "code",
   "execution_count": 8,
   "id": "aeac6e76",
   "metadata": {},
   "outputs": [],
   "source": [
    "a=np.array([0,2,3],dtype='bool')"
   ]
  },
  {
   "cell_type": "code",
   "execution_count": 9,
   "id": "44035331",
   "metadata": {},
   "outputs": [
    {
     "data": {
      "text/plain": [
       "array([False,  True,  True])"
      ]
     },
     "execution_count": 9,
     "metadata": {},
     "output_type": "execute_result"
    }
   ],
   "source": [
    "a"
   ]
  },
  {
   "cell_type": "markdown",
   "id": "e63e72a3",
   "metadata": {},
   "source": [
    "* #### arange ----> Create a Numpy arrray with arange"
   ]
  },
  {
   "cell_type": "code",
   "execution_count": 10,
   "id": "aa4fbe78",
   "metadata": {},
   "outputs": [
    {
     "data": {
      "text/plain": [
       "array([1, 2, 3, 4, 5, 6, 7])"
      ]
     },
     "execution_count": 10,
     "metadata": {},
     "output_type": "execute_result"
    }
   ],
   "source": [
    "np.arange(1,8)"
   ]
  },
  {
   "cell_type": "code",
   "execution_count": 11,
   "id": "ffbd2b42",
   "metadata": {},
   "outputs": [
    {
     "data": {
      "text/plain": [
       "array([1, 4, 7])"
      ]
     },
     "execution_count": 11,
     "metadata": {},
     "output_type": "execute_result"
    }
   ],
   "source": [
    "np.arange(1,8,3)"
   ]
  },
  {
   "cell_type": "markdown",
   "id": "4c62c0ac",
   "metadata": {},
   "source": [
    "* #### Reshape ----> It reshape the existing array in different shape"
   ]
  },
  {
   "cell_type": "code",
   "execution_count": 12,
   "id": "d4a81c0a",
   "metadata": {},
   "outputs": [
    {
     "data": {
      "text/plain": [
       "array([[1, 2],\n",
       "       [3, 4],\n",
       "       [5, 6],\n",
       "       [7, 8]])"
      ]
     },
     "execution_count": 12,
     "metadata": {},
     "output_type": "execute_result"
    }
   ],
   "source": [
    "np.arange(1,9).reshape(4,2)"
   ]
  },
  {
   "cell_type": "code",
   "execution_count": 13,
   "id": "f13c65fa",
   "metadata": {},
   "outputs": [],
   "source": [
    "a3=np.array([[[1,2],[3,4]],[[5,6],[7,8]]])"
   ]
  },
  {
   "cell_type": "code",
   "execution_count": 14,
   "id": "1aae9c8d",
   "metadata": {},
   "outputs": [
    {
     "data": {
      "text/plain": [
       "array([[1, 2, 3, 4],\n",
       "       [5, 6, 7, 8]])"
      ]
     },
     "execution_count": 14,
     "metadata": {},
     "output_type": "execute_result"
    }
   ],
   "source": [
    "a3.reshape(2,4)"
   ]
  },
  {
   "cell_type": "code",
   "execution_count": null,
   "id": "562a15e1",
   "metadata": {},
   "outputs": [],
   "source": []
  },
  {
   "cell_type": "markdown",
   "id": "a402137a",
   "metadata": {},
   "source": [
    "* #### np.zeros ----> Create Numpy array with all values is Zero"
   ]
  },
  {
   "cell_type": "code",
   "execution_count": 15,
   "id": "ec8cd17d",
   "metadata": {},
   "outputs": [
    {
     "data": {
      "text/plain": [
       "array([[0., 0.],\n",
       "       [0., 0.],\n",
       "       [0., 0.],\n",
       "       [0., 0.]])"
      ]
     },
     "execution_count": 15,
     "metadata": {},
     "output_type": "execute_result"
    }
   ],
   "source": [
    "np.zeros((4,2))"
   ]
  },
  {
   "cell_type": "markdown",
   "id": "1b085a17",
   "metadata": {},
   "source": [
    "* #### np.ones ----> Create Numpy array with all values is One"
   ]
  },
  {
   "cell_type": "code",
   "execution_count": 16,
   "id": "02a6b1b0",
   "metadata": {},
   "outputs": [
    {
     "data": {
      "text/plain": [
       "array([[1., 1.],\n",
       "       [1., 1.],\n",
       "       [1., 1.]])"
      ]
     },
     "execution_count": 16,
     "metadata": {},
     "output_type": "execute_result"
    }
   ],
   "source": [
    "np.ones((3,2))"
   ]
  },
  {
   "cell_type": "markdown",
   "id": "e368b6f7",
   "metadata": {},
   "source": [
    "* #### np.random ----> Create Numpy array with random values"
   ]
  },
  {
   "cell_type": "code",
   "execution_count": 17,
   "id": "bef36944",
   "metadata": {},
   "outputs": [
    {
     "data": {
      "text/plain": [
       "array([[0.84032537, 0.17202139, 0.69870401, 0.08357906],\n",
       "       [0.30869694, 0.12093031, 0.60966995, 0.79127378],\n",
       "       [0.44318568, 0.97739779, 0.65340781, 0.74795696]])"
      ]
     },
     "execution_count": 17,
     "metadata": {},
     "output_type": "execute_result"
    }
   ],
   "source": [
    "np.random.random((3,4))"
   ]
  },
  {
   "cell_type": "markdown",
   "id": "cd0b98b8",
   "metadata": {},
   "source": [
    "* #### np.linspace ----> Create Numpy array with linearly space values"
   ]
  },
  {
   "cell_type": "code",
   "execution_count": 18,
   "id": "b755d212",
   "metadata": {},
   "outputs": [
    {
     "data": {
      "text/plain": [
       "array([-10.,  -5.,   0.,   5.,  10.])"
      ]
     },
     "execution_count": 18,
     "metadata": {},
     "output_type": "execute_result"
    }
   ],
   "source": [
    "np.linspace(-10,10,5)"
   ]
  },
  {
   "cell_type": "markdown",
   "id": "09616ae9",
   "metadata": {},
   "source": [
    "* #### np.identity ---> Create a identity matrix "
   ]
  },
  {
   "cell_type": "code",
   "execution_count": 19,
   "id": "7000b680",
   "metadata": {},
   "outputs": [
    {
     "data": {
      "text/plain": [
       "array([[1., 0., 0.],\n",
       "       [0., 1., 0.],\n",
       "       [0., 0., 1.]])"
      ]
     },
     "execution_count": 19,
     "metadata": {},
     "output_type": "execute_result"
    }
   ],
   "source": [
    "np.identity(3)"
   ]
  },
  {
   "cell_type": "code",
   "execution_count": null,
   "id": "11d58ae6",
   "metadata": {},
   "outputs": [],
   "source": []
  },
  {
   "cell_type": "markdown",
   "id": "72ff82dc",
   "metadata": {},
   "source": [
    "### Array Attributes"
   ]
  },
  {
   "cell_type": "code",
   "execution_count": 20,
   "id": "c078b123",
   "metadata": {},
   "outputs": [],
   "source": [
    "a1=np.arange(8)\n",
    "a2=np.arange(12,dtype=float).reshape(3,4)\n",
    "a3=np.arange(8).reshape(2,2,2)"
   ]
  },
  {
   "cell_type": "code",
   "execution_count": 21,
   "id": "0b6ba81c",
   "metadata": {},
   "outputs": [
    {
     "data": {
      "text/plain": [
       "array([[[0, 1],\n",
       "        [2, 3]],\n",
       "\n",
       "       [[4, 5],\n",
       "        [6, 7]]])"
      ]
     },
     "execution_count": 21,
     "metadata": {},
     "output_type": "execute_result"
    }
   ],
   "source": [
    "a3"
   ]
  },
  {
   "cell_type": "markdown",
   "id": "243fd684",
   "metadata": {},
   "source": [
    "* #### ndim  ---->  It give the dimension of the array"
   ]
  },
  {
   "cell_type": "code",
   "execution_count": 22,
   "id": "0601a082",
   "metadata": {},
   "outputs": [
    {
     "data": {
      "text/plain": [
       "2"
      ]
     },
     "execution_count": 22,
     "metadata": {},
     "output_type": "execute_result"
    }
   ],
   "source": [
    "a2.ndim"
   ]
  },
  {
   "cell_type": "markdown",
   "id": "a4aeaa56",
   "metadata": {},
   "source": [
    "* #### Shape  ---->  It give the Shape of the array or you can say number of rows and columns "
   ]
  },
  {
   "cell_type": "code",
   "execution_count": 23,
   "id": "f1a637c9",
   "metadata": {},
   "outputs": [
    {
     "data": {
      "text/plain": [
       "(2, 2, 2)"
      ]
     },
     "execution_count": 23,
     "metadata": {},
     "output_type": "execute_result"
    }
   ],
   "source": [
    "a3.shape"
   ]
  },
  {
   "cell_type": "markdown",
   "id": "95e54c28",
   "metadata": {},
   "source": [
    "* #### Size  ---->  It give the no. of items in the array"
   ]
  },
  {
   "cell_type": "code",
   "execution_count": 24,
   "id": "9463dd55",
   "metadata": {},
   "outputs": [
    {
     "data": {
      "text/plain": [
       "8"
      ]
     },
     "execution_count": 24,
     "metadata": {},
     "output_type": "execute_result"
    }
   ],
   "source": [
    "a3.size"
   ]
  },
  {
   "cell_type": "markdown",
   "id": "71903bce",
   "metadata": {},
   "source": [
    "* #### itemsize  ---->  It give the information of how much space it received inside the memory"
   ]
  },
  {
   "cell_type": "code",
   "execution_count": 25,
   "id": "fe466e00",
   "metadata": {},
   "outputs": [
    {
     "data": {
      "text/plain": [
       "8"
      ]
     },
     "execution_count": 25,
     "metadata": {},
     "output_type": "execute_result"
    }
   ],
   "source": [
    "a3.itemsize"
   ]
  },
  {
   "cell_type": "code",
   "execution_count": 26,
   "id": "ada4ada8",
   "metadata": {},
   "outputs": [],
   "source": [
    "a1=np.arange(8,dtype=np.int32)"
   ]
  },
  {
   "cell_type": "code",
   "execution_count": 27,
   "id": "cfa73194",
   "metadata": {},
   "outputs": [
    {
     "data": {
      "text/plain": [
       "4"
      ]
     },
     "execution_count": 27,
     "metadata": {},
     "output_type": "execute_result"
    }
   ],
   "source": [
    "a1.itemsize"
   ]
  },
  {
   "cell_type": "code",
   "execution_count": 28,
   "id": "88e58b35",
   "metadata": {},
   "outputs": [
    {
     "data": {
      "text/plain": [
       "32"
      ]
     },
     "execution_count": 28,
     "metadata": {},
     "output_type": "execute_result"
    }
   ],
   "source": [
    "# how many byte it take to store the a1 array isnside the memory\n",
    "a1.itemsize*a1.size"
   ]
  },
  {
   "cell_type": "markdown",
   "id": "5e73078c",
   "metadata": {},
   "source": [
    "* #### dtype  ---->  It give the informatio of data type of the array"
   ]
  },
  {
   "cell_type": "code",
   "execution_count": 29,
   "id": "0be572e7",
   "metadata": {},
   "outputs": [
    {
     "data": {
      "text/plain": [
       "dtype('int64')"
      ]
     },
     "execution_count": 29,
     "metadata": {},
     "output_type": "execute_result"
    }
   ],
   "source": [
    "a3.dtype"
   ]
  },
  {
   "cell_type": "markdown",
   "id": "01d0f374",
   "metadata": {},
   "source": [
    "### Changing Datatype"
   ]
  },
  {
   "cell_type": "markdown",
   "id": "d902a554",
   "metadata": {},
   "source": [
    "* #### astype"
   ]
  },
  {
   "cell_type": "code",
   "execution_count": 30,
   "id": "08a9e8d4",
   "metadata": {},
   "outputs": [
    {
     "data": {
      "text/plain": [
       "array([[[0, 1],\n",
       "        [2, 3]],\n",
       "\n",
       "       [[4, 5],\n",
       "        [6, 7]]], dtype=int32)"
      ]
     },
     "execution_count": 30,
     "metadata": {},
     "output_type": "execute_result"
    }
   ],
   "source": [
    "a3.astype(np.int32)"
   ]
  },
  {
   "cell_type": "markdown",
   "id": "e98163a7",
   "metadata": {},
   "source": [
    "### Array Operations"
   ]
  },
  {
   "cell_type": "code",
   "execution_count": 31,
   "id": "6a042f7d",
   "metadata": {},
   "outputs": [],
   "source": [
    "a1=np.arange(12).reshape(3,4)\n",
    "a2=np.arange(12,24).reshape(3,4)"
   ]
  },
  {
   "cell_type": "code",
   "execution_count": 32,
   "id": "08772fc3",
   "metadata": {},
   "outputs": [
    {
     "data": {
      "text/plain": [
       "array([[ 0,  1,  2,  3],\n",
       "       [ 4,  5,  6,  7],\n",
       "       [ 8,  9, 10, 11]])"
      ]
     },
     "execution_count": 32,
     "metadata": {},
     "output_type": "execute_result"
    }
   ],
   "source": [
    "a1"
   ]
  },
  {
   "cell_type": "markdown",
   "id": "4f485651",
   "metadata": {},
   "source": [
    "* #### scalar operations"
   ]
  },
  {
   "cell_type": "code",
   "execution_count": 33,
   "id": "8c80aed7",
   "metadata": {},
   "outputs": [
    {
     "data": {
      "text/plain": [
       "array([[ 0,  2,  4,  6],\n",
       "       [ 8, 10, 12, 14],\n",
       "       [16, 18, 20, 22]])"
      ]
     },
     "execution_count": 33,
     "metadata": {},
     "output_type": "execute_result"
    }
   ],
   "source": [
    "a1*2"
   ]
  },
  {
   "cell_type": "markdown",
   "id": "fac2521f",
   "metadata": {},
   "source": [
    "* #### Relational operation"
   ]
  },
  {
   "cell_type": "code",
   "execution_count": 34,
   "id": "ff42da7d",
   "metadata": {},
   "outputs": [
    {
     "data": {
      "text/plain": [
       "array([[False,  True,  True,  True],\n",
       "       [ True,  True,  True,  True],\n",
       "       [ True,  True,  True,  True]])"
      ]
     },
     "execution_count": 34,
     "metadata": {},
     "output_type": "execute_result"
    }
   ],
   "source": [
    "a1!=0"
   ]
  },
  {
   "cell_type": "markdown",
   "id": "ce72f23b",
   "metadata": {},
   "source": [
    "* #### Vector opertaions"
   ]
  },
  {
   "cell_type": "code",
   "execution_count": 35,
   "id": "b4712662",
   "metadata": {},
   "outputs": [
    {
     "data": {
      "text/plain": [
       "array([[ 0,  1,  2,  3],\n",
       "       [ 4,  5,  6,  7],\n",
       "       [ 8,  9, 10, 11]])"
      ]
     },
     "execution_count": 35,
     "metadata": {},
     "output_type": "execute_result"
    }
   ],
   "source": [
    "a1"
   ]
  },
  {
   "cell_type": "code",
   "execution_count": 36,
   "id": "d797de07",
   "metadata": {},
   "outputs": [
    {
     "data": {
      "text/plain": [
       "array([[12, 13, 14, 15],\n",
       "       [16, 17, 18, 19],\n",
       "       [20, 21, 22, 23]])"
      ]
     },
     "execution_count": 36,
     "metadata": {},
     "output_type": "execute_result"
    }
   ],
   "source": [
    "a2"
   ]
  },
  {
   "cell_type": "code",
   "execution_count": 37,
   "id": "e31569fc",
   "metadata": {},
   "outputs": [
    {
     "data": {
      "text/plain": [
       "array([[ 0,  1,  2,  3],\n",
       "       [ 4,  5,  6,  7],\n",
       "       [ 8,  9, 10, 11]])"
      ]
     },
     "execution_count": 37,
     "metadata": {},
     "output_type": "execute_result"
    }
   ],
   "source": [
    "a1%a2"
   ]
  },
  {
   "cell_type": "markdown",
   "id": "26c0948f",
   "metadata": {},
   "source": [
    "### Array Function"
   ]
  },
  {
   "cell_type": "code",
   "execution_count": 38,
   "id": "364067fd",
   "metadata": {},
   "outputs": [
    {
     "data": {
      "text/plain": [
       "array([[70., 12., 92.],\n",
       "       [71., 42., 35.],\n",
       "       [81.,  5., 67.]])"
      ]
     },
     "execution_count": 38,
     "metadata": {},
     "output_type": "execute_result"
    }
   ],
   "source": [
    "a1=np.random.random((3,3))\n",
    "a1 =np.round(a1*100)\n",
    "a1"
   ]
  },
  {
   "cell_type": "markdown",
   "id": "085d6e49",
   "metadata": {},
   "source": [
    "* #### max/min/sum/prod\n",
    "# 0 -> col and 1 -> row\n"
   ]
  },
  {
   "cell_type": "code",
   "execution_count": 39,
   "id": "6777851d",
   "metadata": {},
   "outputs": [
    {
     "data": {
      "text/plain": [
       "array([222.,  59., 194.])"
      ]
     },
     "execution_count": 39,
     "metadata": {},
     "output_type": "execute_result"
    }
   ],
   "source": [
    "np.sum(a1,axis=0)"
   ]
  },
  {
   "cell_type": "markdown",
   "id": "3cc7f783",
   "metadata": {},
   "source": [
    "* #### mean/median/std/var\n"
   ]
  },
  {
   "cell_type": "code",
   "execution_count": 40,
   "id": "08072e8a",
   "metadata": {},
   "outputs": [
    {
     "data": {
      "text/plain": [
       "array([70., 42., 67.])"
      ]
     },
     "execution_count": 40,
     "metadata": {},
     "output_type": "execute_result"
    }
   ],
   "source": [
    "np.median(a1,axis=1) # first you arrange the values in ascending or decending order than take the middle element"
   ]
  },
  {
   "cell_type": "markdown",
   "id": "f7e6c205",
   "metadata": {},
   "source": [
    "* #### dot product"
   ]
  },
  {
   "cell_type": "code",
   "execution_count": 41,
   "id": "a68bc096",
   "metadata": {},
   "outputs": [],
   "source": [
    "a2=np.arange(6).reshape(2,3)\n",
    "a3=np.arange(6,12).reshape(3,2)"
   ]
  },
  {
   "cell_type": "code",
   "execution_count": 42,
   "id": "b96554f3",
   "metadata": {},
   "outputs": [
    {
     "data": {
      "text/plain": [
       "array([[0, 1, 2],\n",
       "       [3, 4, 5]])"
      ]
     },
     "execution_count": 42,
     "metadata": {},
     "output_type": "execute_result"
    }
   ],
   "source": [
    "a2"
   ]
  },
  {
   "cell_type": "code",
   "execution_count": 43,
   "id": "787499f1",
   "metadata": {},
   "outputs": [
    {
     "data": {
      "text/plain": [
       "array([[ 6,  7],\n",
       "       [ 8,  9],\n",
       "       [10, 11]])"
      ]
     },
     "execution_count": 43,
     "metadata": {},
     "output_type": "execute_result"
    }
   ],
   "source": [
    "a3"
   ]
  },
  {
   "cell_type": "code",
   "execution_count": 44,
   "id": "f7bca708",
   "metadata": {},
   "outputs": [
    {
     "data": {
      "text/plain": [
       "array([[ 28,  31],\n",
       "       [100, 112]])"
      ]
     },
     "execution_count": 44,
     "metadata": {},
     "output_type": "execute_result"
    }
   ],
   "source": [
    "np.dot(a2,a3)"
   ]
  },
  {
   "cell_type": "markdown",
   "id": "07eca7c0",
   "metadata": {},
   "source": [
    "* #### log and exponents"
   ]
  },
  {
   "cell_type": "code",
   "execution_count": 45,
   "id": "9b77ac65",
   "metadata": {},
   "outputs": [
    {
     "data": {
      "text/plain": [
       "array([[4.24849524, 2.48490665, 4.52178858],\n",
       "       [4.26267988, 3.73766962, 3.55534806],\n",
       "       [4.39444915, 1.60943791, 4.20469262]])"
      ]
     },
     "execution_count": 45,
     "metadata": {},
     "output_type": "execute_result"
    }
   ],
   "source": [
    "np.log(a1)"
   ]
  },
  {
   "cell_type": "markdown",
   "id": "ee944d26",
   "metadata": {},
   "source": [
    "* #### round/floor/ceil"
   ]
  },
  {
   "cell_type": "code",
   "execution_count": 46,
   "id": "2b445167",
   "metadata": {},
   "outputs": [
    {
     "data": {
      "text/plain": [
       "4.0"
      ]
     },
     "execution_count": 46,
     "metadata": {},
     "output_type": "execute_result"
    }
   ],
   "source": [
    "np.floor(4.8)"
   ]
  },
  {
   "cell_type": "markdown",
   "id": "8b3d22e5",
   "metadata": {},
   "source": [
    "* ##### round ----> It take the nearest integer.\n",
    "* ##### floor ----> It take the left part of the given integer on the number line .\n",
    "* ##### ceil ----> It take the right part of the given integer on the number line ."
   ]
  },
  {
   "cell_type": "code",
   "execution_count": 47,
   "id": "d7f6653f",
   "metadata": {},
   "outputs": [
    {
     "data": {
      "text/plain": [
       "5.0"
      ]
     },
     "execution_count": 47,
     "metadata": {},
     "output_type": "execute_result"
    }
   ],
   "source": [
    "np.ceil(4.8)"
   ]
  },
  {
   "cell_type": "code",
   "execution_count": 48,
   "id": "647f70d0",
   "metadata": {},
   "outputs": [
    {
     "data": {
      "text/plain": [
       "5"
      ]
     },
     "execution_count": 48,
     "metadata": {},
     "output_type": "execute_result"
    }
   ],
   "source": [
    "round(4.8)"
   ]
  },
  {
   "cell_type": "code",
   "execution_count": 49,
   "id": "a531d417",
   "metadata": {},
   "outputs": [
    {
     "data": {
      "text/plain": [
       "4"
      ]
     },
     "execution_count": 49,
     "metadata": {},
     "output_type": "execute_result"
    }
   ],
   "source": [
    "round(4.3)"
   ]
  },
  {
   "cell_type": "markdown",
   "id": "a519c8a5",
   "metadata": {},
   "source": [
    "### Indexing and Slicing"
   ]
  },
  {
   "cell_type": "code",
   "execution_count": 50,
   "id": "00a31cd8",
   "metadata": {},
   "outputs": [],
   "source": [
    "a1 = np.arange(8)\n",
    "a2 = np.arange(12).reshape(3,4)\n",
    "a3 = np.arange(8).reshape(2,2,2)\n"
   ]
  },
  {
   "attachments": {
    "indexingpy.jpeg": {
     "image/jpeg": "[encoded data removed]"
    }
   },
   "cell_type": "markdown",
   "id": "eaca0541",
   "metadata": {},
   "source": [
    "![indexingpy.jpeg](attachment:indexingpy.jpeg)"
   ]
  },
  {
   "cell_type": "markdown",
   "id": "5620438f",
   "metadata": {},
   "source": [
    "* Positive Indexing Start from 0 from Left to right\n",
    "* Negative Indexing Start from -1 from Right to left"
   ]
  },
  {
   "cell_type": "markdown",
   "id": "64f4c093",
   "metadata": {},
   "source": [
    "* #### we fetch one item from the array with the help of indexing .\n",
    "* #### If we Want to Fetch more items at once then we are going to use the Slicing ."
   ]
  },
  {
   "cell_type": "code",
   "execution_count": 51,
   "id": "5f14bdb5",
   "metadata": {},
   "outputs": [
    {
     "data": {
      "text/plain": [
       "array([0, 1, 2, 3, 4, 5, 6, 7])"
      ]
     },
     "execution_count": 51,
     "metadata": {},
     "output_type": "execute_result"
    }
   ],
   "source": [
    "a1"
   ]
  },
  {
   "cell_type": "code",
   "execution_count": 52,
   "id": "f2e4ee88",
   "metadata": {},
   "outputs": [
    {
     "data": {
      "text/plain": [
       "array([[ 0,  1,  2,  3],\n",
       "       [ 4,  5,  6,  7],\n",
       "       [ 8,  9, 10, 11]])"
      ]
     },
     "execution_count": 52,
     "metadata": {},
     "output_type": "execute_result"
    }
   ],
   "source": [
    "a2"
   ]
  },
  {
   "cell_type": "code",
   "execution_count": 53,
   "id": "04b88083",
   "metadata": {},
   "outputs": [
    {
     "data": {
      "text/plain": [
       "array([[[0, 1],\n",
       "        [2, 3]],\n",
       "\n",
       "       [[4, 5],\n",
       "        [6, 7]]])"
      ]
     },
     "execution_count": 53,
     "metadata": {},
     "output_type": "execute_result"
    }
   ],
   "source": [
    "a3"
   ]
  },
  {
   "cell_type": "code",
   "execution_count": 54,
   "id": "2fbcaf85",
   "metadata": {},
   "outputs": [
    {
     "data": {
      "text/plain": [
       "11"
      ]
     },
     "execution_count": 54,
     "metadata": {},
     "output_type": "execute_result"
    }
   ],
   "source": [
    "a2[2,3]"
   ]
  },
  {
   "cell_type": "code",
   "execution_count": 55,
   "id": "f7ba7812",
   "metadata": {},
   "outputs": [
    {
     "data": {
      "text/plain": [
       "2"
      ]
     },
     "execution_count": 55,
     "metadata": {},
     "output_type": "execute_result"
    }
   ],
   "source": [
    "a3[0,1,0]"
   ]
  },
  {
   "cell_type": "code",
   "execution_count": 56,
   "id": "90ce1f50",
   "metadata": {},
   "outputs": [
    {
     "data": {
      "text/plain": [
       "5"
      ]
     },
     "execution_count": 56,
     "metadata": {},
     "output_type": "execute_result"
    }
   ],
   "source": [
    "a3[1,0,1]"
   ]
  },
  {
   "cell_type": "code",
   "execution_count": 57,
   "id": "0998009d",
   "metadata": {},
   "outputs": [
    {
     "data": {
      "text/plain": [
       "array([[ 0,  1,  2,  3],\n",
       "       [ 4,  5,  6,  7],\n",
       "       [ 8,  9, 10, 11]])"
      ]
     },
     "execution_count": 57,
     "metadata": {},
     "output_type": "execute_result"
    }
   ],
   "source": [
    "a2"
   ]
  },
  {
   "cell_type": "code",
   "execution_count": 58,
   "id": "03aaefdc",
   "metadata": {},
   "outputs": [
    {
     "data": {
      "text/plain": [
       "array([4, 5, 6, 7])"
      ]
     },
     "execution_count": 58,
     "metadata": {},
     "output_type": "execute_result"
    }
   ],
   "source": [
    "#Now fetch the second row\n",
    "a2[1,:]"
   ]
  },
  {
   "cell_type": "code",
   "execution_count": 59,
   "id": "bc13b491",
   "metadata": {},
   "outputs": [
    {
     "data": {
      "text/plain": [
       "array([ 3,  7, 11])"
      ]
     },
     "execution_count": 59,
     "metadata": {},
     "output_type": "execute_result"
    }
   ],
   "source": [
    "#Now fetch the third column\n",
    "a2[:,3]"
   ]
  },
  {
   "cell_type": "code",
   "execution_count": 60,
   "id": "acdc0b84",
   "metadata": {},
   "outputs": [],
   "source": [
    "#Now fetch the 5,6 and 9,10\n",
    "#a2[row_Start:row_end , col_start:col_end]"
   ]
  },
  {
   "cell_type": "code",
   "execution_count": 61,
   "id": "915e3b1d",
   "metadata": {},
   "outputs": [
    {
     "data": {
      "text/plain": [
       "array([[ 5,  6],\n",
       "       [ 9, 10]])"
      ]
     },
     "execution_count": 61,
     "metadata": {},
     "output_type": "execute_result"
    }
   ],
   "source": [
    "a2[1:,1:3]"
   ]
  },
  {
   "cell_type": "code",
   "execution_count": 62,
   "id": "fdb245a6",
   "metadata": {},
   "outputs": [
    {
     "data": {
      "text/plain": [
       "array([[ 1,  3],\n",
       "       [ 9, 11]])"
      ]
     },
     "execution_count": 62,
     "metadata": {},
     "output_type": "execute_result"
    }
   ],
   "source": [
    "#fetch 1,3,9,11\n",
    "#a2[0:3:2,1:4:2]\n",
    "a2[0::2,1::2]\n"
   ]
  },
  {
   "cell_type": "code",
   "execution_count": 63,
   "id": "4e944b59",
   "metadata": {},
   "outputs": [
    {
     "data": {
      "text/plain": [
       "array([[ 0,  1,  2,  3],\n",
       "       [ 4,  5,  6,  7],\n",
       "       [ 8,  9, 10, 11]])"
      ]
     },
     "execution_count": 63,
     "metadata": {},
     "output_type": "execute_result"
    }
   ],
   "source": [
    "a2"
   ]
  },
  {
   "cell_type": "code",
   "execution_count": 64,
   "id": "3ab5b56d",
   "metadata": {},
   "outputs": [
    {
     "data": {
      "text/plain": [
       "array([4, 7])"
      ]
     },
     "execution_count": 64,
     "metadata": {},
     "output_type": "execute_result"
    }
   ],
   "source": [
    "#fetch 4 and 7\n",
    "a2[1,0::3]"
   ]
  },
  {
   "cell_type": "code",
   "execution_count": 65,
   "id": "617ae561",
   "metadata": {},
   "outputs": [],
   "source": [
    "a3=np.arange(27).reshape(3,3,3)"
   ]
  },
  {
   "cell_type": "code",
   "execution_count": 66,
   "id": "7cccaf04",
   "metadata": {},
   "outputs": [
    {
     "data": {
      "text/plain": [
       "array([[[ 0,  1,  2],\n",
       "        [ 3,  4,  5],\n",
       "        [ 6,  7,  8]],\n",
       "\n",
       "       [[ 9, 10, 11],\n",
       "        [12, 13, 14],\n",
       "        [15, 16, 17]],\n",
       "\n",
       "       [[18, 19, 20],\n",
       "        [21, 22, 23],\n",
       "        [24, 25, 26]]])"
      ]
     },
     "execution_count": 66,
     "metadata": {},
     "output_type": "execute_result"
    }
   ],
   "source": [
    "a3"
   ]
  },
  {
   "cell_type": "code",
   "execution_count": 67,
   "id": "3a1f6d70",
   "metadata": {},
   "outputs": [
    {
     "data": {
      "text/plain": [
       "array([[18, 19, 20],\n",
       "       [21, 22, 23],\n",
       "       [24, 25, 26]])"
      ]
     },
     "execution_count": 67,
     "metadata": {},
     "output_type": "execute_result"
    }
   ],
   "source": [
    "a3[2]"
   ]
  },
  {
   "cell_type": "code",
   "execution_count": 68,
   "id": "3de08091",
   "metadata": {},
   "outputs": [
    {
     "data": {
      "text/plain": [
       "array([3, 4, 5])"
      ]
     },
     "execution_count": 68,
     "metadata": {},
     "output_type": "execute_result"
    }
   ],
   "source": [
    "#fetch the second row of first 2d array -- 3,4,5\n",
    "a3[0,1]"
   ]
  },
  {
   "cell_type": "code",
   "execution_count": 69,
   "id": "1ccf4490",
   "metadata": {},
   "outputs": [
    {
     "data": {
      "text/plain": [
       "array([10, 13, 16])"
      ]
     },
     "execution_count": 69,
     "metadata": {},
     "output_type": "execute_result"
    }
   ],
   "source": [
    "# fetch 10,13,16 \n",
    "a3[1,:,1]"
   ]
  },
  {
   "cell_type": "code",
   "execution_count": 70,
   "id": "b33b9564",
   "metadata": {},
   "outputs": [
    {
     "data": {
      "text/plain": [
       "array([[22, 23],\n",
       "       [25, 26]])"
      ]
     },
     "execution_count": 70,
     "metadata": {},
     "output_type": "execute_result"
    }
   ],
   "source": [
    "#fetch 22,23,25,26\n",
    "a3[2,1:,1:]"
   ]
  },
  {
   "cell_type": "code",
   "execution_count": 71,
   "id": "489ede21",
   "metadata": {},
   "outputs": [
    {
     "data": {
      "text/plain": [
       "array([[[ 0,  1,  2],\n",
       "        [ 3,  4,  5],\n",
       "        [ 6,  7,  8]],\n",
       "\n",
       "       [[ 9, 10, 11],\n",
       "        [12, 13, 14],\n",
       "        [15, 16, 17]],\n",
       "\n",
       "       [[18, 19, 20],\n",
       "        [21, 22, 23],\n",
       "        [24, 25, 26]]])"
      ]
     },
     "execution_count": 71,
     "metadata": {},
     "output_type": "execute_result"
    }
   ],
   "source": [
    "\n",
    "a3"
   ]
  },
  {
   "cell_type": "code",
   "execution_count": 72,
   "id": "7127612e",
   "metadata": {},
   "outputs": [],
   "source": [
    "#fetch 0,2,18,20"
   ]
  },
  {
   "cell_type": "code",
   "execution_count": 73,
   "id": "14b59009",
   "metadata": {},
   "outputs": [
    {
     "data": {
      "text/plain": [
       "array([[ 0,  2],\n",
       "       [18, 20]])"
      ]
     },
     "execution_count": 73,
     "metadata": {},
     "output_type": "execute_result"
    }
   ],
   "source": [
    "a3[::2,0,0::2]"
   ]
  },
  {
   "cell_type": "markdown",
   "id": "c8b67d5a",
   "metadata": {},
   "source": [
    "### Iteration"
   ]
  },
  {
   "cell_type": "markdown",
   "id": "5772af56",
   "metadata": {},
   "source": [
    "* 1D array ----> It prints the elements inside the array"
   ]
  },
  {
   "cell_type": "code",
   "execution_count": 74,
   "id": "a00d7fe8",
   "metadata": {},
   "outputs": [],
   "source": [
    "a1=np.arange(8)"
   ]
  },
  {
   "cell_type": "code",
   "execution_count": 75,
   "id": "821761c8",
   "metadata": {},
   "outputs": [
    {
     "data": {
      "text/plain": [
       "array([0, 1, 2, 3, 4, 5, 6, 7])"
      ]
     },
     "execution_count": 75,
     "metadata": {},
     "output_type": "execute_result"
    }
   ],
   "source": [
    "a1"
   ]
  },
  {
   "cell_type": "code",
   "execution_count": 76,
   "id": "3262b580",
   "metadata": {},
   "outputs": [
    {
     "name": "stdout",
     "output_type": "stream",
     "text": [
      "0\n",
      "1\n",
      "2\n",
      "3\n",
      "4\n",
      "5\n",
      "6\n",
      "7\n"
     ]
    }
   ],
   "source": [
    "for i in a1:\n",
    "    print(i)"
   ]
  },
  {
   "cell_type": "markdown",
   "id": "c53d6278",
   "metadata": {},
   "source": [
    "* 2D array  -----> It prints all the rows or you can call 1D array of the array"
   ]
  },
  {
   "cell_type": "code",
   "execution_count": 77,
   "id": "a669d7f2",
   "metadata": {},
   "outputs": [],
   "source": [
    "a2=np.arange(12).reshape(3,4)"
   ]
  },
  {
   "cell_type": "code",
   "execution_count": 78,
   "id": "6dc4e312",
   "metadata": {},
   "outputs": [
    {
     "data": {
      "text/plain": [
       "array([[ 0,  1,  2,  3],\n",
       "       [ 4,  5,  6,  7],\n",
       "       [ 8,  9, 10, 11]])"
      ]
     },
     "execution_count": 78,
     "metadata": {},
     "output_type": "execute_result"
    }
   ],
   "source": [
    "a2"
   ]
  },
  {
   "cell_type": "code",
   "execution_count": 79,
   "id": "c72c7564",
   "metadata": {},
   "outputs": [
    {
     "name": "stdout",
     "output_type": "stream",
     "text": [
      "[0 1 2 3]\n",
      "[4 5 6 7]\n",
      "[ 8  9 10 11]\n"
     ]
    }
   ],
   "source": [
    "for i in a2:\n",
    "    print(i)"
   ]
  },
  {
   "cell_type": "markdown",
   "id": "dbdc10d3",
   "metadata": {},
   "source": [
    "* 3D array ------> It print all the 2D array"
   ]
  },
  {
   "cell_type": "code",
   "execution_count": 80,
   "id": "eb6d7744",
   "metadata": {},
   "outputs": [],
   "source": [
    "a3=np.arange(8).reshape(2,2,2)"
   ]
  },
  {
   "cell_type": "code",
   "execution_count": 81,
   "id": "eb995bfa",
   "metadata": {},
   "outputs": [
    {
     "data": {
      "text/plain": [
       "array([[[0, 1],\n",
       "        [2, 3]],\n",
       "\n",
       "       [[4, 5],\n",
       "        [6, 7]]])"
      ]
     },
     "execution_count": 81,
     "metadata": {},
     "output_type": "execute_result"
    }
   ],
   "source": [
    "a3"
   ]
  },
  {
   "cell_type": "code",
   "execution_count": 82,
   "id": "819f7f5b",
   "metadata": {},
   "outputs": [
    {
     "name": "stdout",
     "output_type": "stream",
     "text": [
      "[[0 1]\n",
      " [2 3]]\n",
      "[[4 5]\n",
      " [6 7]]\n"
     ]
    }
   ],
   "source": [
    "for i in a3:\n",
    "    print(i)"
   ]
  },
  {
   "cell_type": "code",
   "execution_count": 83,
   "id": "26242d57",
   "metadata": {},
   "outputs": [
    {
     "name": "stdout",
     "output_type": "stream",
     "text": [
      "0\n",
      "1\n",
      "2\n",
      "3\n",
      "4\n",
      "5\n",
      "6\n",
      "7\n"
     ]
    }
   ],
   "source": [
    "for i in np.nditer(a3):\n",
    "    print(i)"
   ]
  },
  {
   "cell_type": "markdown",
   "id": "8eea55ee",
   "metadata": {},
   "source": [
    "### Reshaping"
   ]
  },
  {
   "cell_type": "markdown",
   "id": "5f84bb32",
   "metadata": {},
   "source": [
    "* #### Reshape  -----> Reshape try to change the given shape of the array"
   ]
  },
  {
   "cell_type": "code",
   "execution_count": 84,
   "id": "2c7db2b3",
   "metadata": {},
   "outputs": [],
   "source": [
    "a1=np.arange(12)"
   ]
  },
  {
   "cell_type": "code",
   "execution_count": 85,
   "id": "5d45c185",
   "metadata": {},
   "outputs": [
    {
     "data": {
      "text/plain": [
       "array([ 0,  1,  2,  3,  4,  5,  6,  7,  8,  9, 10, 11])"
      ]
     },
     "execution_count": 85,
     "metadata": {},
     "output_type": "execute_result"
    }
   ],
   "source": [
    "a1"
   ]
  },
  {
   "cell_type": "code",
   "execution_count": 86,
   "id": "af57a387",
   "metadata": {},
   "outputs": [],
   "source": [
    "a1=a1.reshape(3,4)"
   ]
  },
  {
   "cell_type": "code",
   "execution_count": 87,
   "id": "6df4eb40",
   "metadata": {},
   "outputs": [
    {
     "data": {
      "text/plain": [
       "array([[ 0,  1,  2,  3],\n",
       "       [ 4,  5,  6,  7],\n",
       "       [ 8,  9, 10, 11]])"
      ]
     },
     "execution_count": 87,
     "metadata": {},
     "output_type": "execute_result"
    }
   ],
   "source": [
    "a1"
   ]
  },
  {
   "cell_type": "markdown",
   "id": "4719277b",
   "metadata": {},
   "source": [
    "* #### Transpose  -----> Transpose try to transpose the given array , Here rows converted into the column and col converted into the rows"
   ]
  },
  {
   "cell_type": "code",
   "execution_count": 88,
   "id": "26a1a43a",
   "metadata": {},
   "outputs": [
    {
     "data": {
      "text/plain": [
       "array([[ 0,  4,  8],\n",
       "       [ 1,  5,  9],\n",
       "       [ 2,  6, 10],\n",
       "       [ 3,  7, 11]])"
      ]
     },
     "execution_count": 88,
     "metadata": {},
     "output_type": "execute_result"
    }
   ],
   "source": [
    "a1.T"
   ]
  },
  {
   "cell_type": "code",
   "execution_count": 89,
   "id": "9f9a2857",
   "metadata": {},
   "outputs": [
    {
     "data": {
      "text/plain": [
       "array([[ 0,  4,  8],\n",
       "       [ 1,  5,  9],\n",
       "       [ 2,  6, 10],\n",
       "       [ 3,  7, 11]])"
      ]
     },
     "execution_count": 89,
     "metadata": {},
     "output_type": "execute_result"
    }
   ],
   "source": [
    "np.transpose(a1)"
   ]
  },
  {
   "cell_type": "markdown",
   "id": "3780e87a",
   "metadata": {},
   "source": [
    "* #### ravel  -----> Ravel reshpe the n-dimensional array into one dimenstion .It simply flatten the array\n"
   ]
  },
  {
   "cell_type": "code",
   "execution_count": 90,
   "id": "603d081d",
   "metadata": {},
   "outputs": [
    {
     "data": {
      "text/plain": [
       "array([[ 0,  1,  2,  3],\n",
       "       [ 4,  5,  6,  7],\n",
       "       [ 8,  9, 10, 11]])"
      ]
     },
     "execution_count": 90,
     "metadata": {},
     "output_type": "execute_result"
    }
   ],
   "source": [
    "a1"
   ]
  },
  {
   "cell_type": "code",
   "execution_count": 91,
   "id": "a2354964",
   "metadata": {},
   "outputs": [
    {
     "data": {
      "text/plain": [
       "array([ 0,  1,  2,  3,  4,  5,  6,  7,  8,  9, 10, 11])"
      ]
     },
     "execution_count": 91,
     "metadata": {},
     "output_type": "execute_result"
    }
   ],
   "source": [
    "a1.ravel()"
   ]
  },
  {
   "cell_type": "markdown",
   "id": "6e942463",
   "metadata": {},
   "source": [
    "### Stacking ---- > "
   ]
  },
  {
   "cell_type": "markdown",
   "id": "1ec0f0c4",
   "metadata": {},
   "source": [
    "*  It simple means joining two array or more than two arrays"
   ]
  },
  {
   "cell_type": "markdown",
   "id": "53318ab3",
   "metadata": {},
   "source": [
    " ##### horizontal stacking "
   ]
  },
  {
   "cell_type": "markdown",
   "id": "d9f6f22e",
   "metadata": {},
   "source": [
    "*  -----> In horizontal stacking when you join two array the number of rows remain same but the no. of columns is incresed by number of columns in the other array"
   ]
  },
  {
   "cell_type": "markdown",
   "id": "a8612675",
   "metadata": {},
   "source": [
    " ##### Vertical stacking "
   ]
  },
  {
   "cell_type": "markdown",
   "id": "8ec27010",
   "metadata": {},
   "source": [
    "*  -----> In Vertical stacking when you join two array the number of columns remain same but the no. of rows is incresed by no. of rows i the other array"
   ]
  },
  {
   "cell_type": "code",
   "execution_count": 92,
   "id": "20390786",
   "metadata": {},
   "outputs": [],
   "source": [
    "a1=np.arange(8).reshape(4,2)\n",
    "a2=np.arange(8,16).reshape(4,2)"
   ]
  },
  {
   "cell_type": "code",
   "execution_count": 93,
   "id": "c0b06c60",
   "metadata": {},
   "outputs": [
    {
     "data": {
      "text/plain": [
       "array([[ 8,  9],\n",
       "       [10, 11],\n",
       "       [12, 13],\n",
       "       [14, 15]])"
      ]
     },
     "execution_count": 93,
     "metadata": {},
     "output_type": "execute_result"
    }
   ],
   "source": [
    "a2\n"
   ]
  },
  {
   "cell_type": "code",
   "execution_count": 94,
   "id": "686f9ec2",
   "metadata": {},
   "outputs": [
    {
     "data": {
      "text/plain": [
       "array([[ 0,  1,  8,  9],\n",
       "       [ 2,  3, 10, 11],\n",
       "       [ 4,  5, 12, 13],\n",
       "       [ 6,  7, 14, 15]])"
      ]
     },
     "execution_count": 94,
     "metadata": {},
     "output_type": "execute_result"
    }
   ],
   "source": [
    "np.hstack((a1,a2))"
   ]
  },
  {
   "cell_type": "code",
   "execution_count": 95,
   "id": "d184568e",
   "metadata": {},
   "outputs": [
    {
     "data": {
      "text/plain": [
       "array([[ 0,  1],\n",
       "       [ 2,  3],\n",
       "       [ 4,  5],\n",
       "       [ 6,  7],\n",
       "       [ 8,  9],\n",
       "       [10, 11],\n",
       "       [12, 13],\n",
       "       [14, 15]])"
      ]
     },
     "execution_count": 95,
     "metadata": {},
     "output_type": "execute_result"
    }
   ],
   "source": [
    "np.vstack((a1,a2))"
   ]
  },
  {
   "cell_type": "markdown",
   "id": "04e19f28",
   "metadata": {},
   "source": [
    "### Splitting"
   ]
  },
  {
   "cell_type": "markdown",
   "id": "b27be185",
   "metadata": {},
   "source": [
    "* Splitting is just the reverse of stacking "
   ]
  },
  {
   "cell_type": "markdown",
   "id": "a314ad7c",
   "metadata": {},
   "source": [
    "##### Vertical Splitting -----> draw horizontal line and split the given array"
   ]
  },
  {
   "cell_type": "code",
   "execution_count": 96,
   "id": "d12ba222",
   "metadata": {},
   "outputs": [
    {
     "data": {
      "text/plain": [
       "array([[0, 1],\n",
       "       [2, 3],\n",
       "       [4, 5],\n",
       "       [6, 7]])"
      ]
     },
     "execution_count": 96,
     "metadata": {},
     "output_type": "execute_result"
    }
   ],
   "source": [
    "a1"
   ]
  },
  {
   "cell_type": "code",
   "execution_count": 97,
   "id": "e809757d",
   "metadata": {},
   "outputs": [
    {
     "data": {
      "text/plain": [
       "[array([[0, 1],\n",
       "        [2, 3]]),\n",
       " array([[4, 5],\n",
       "        [6, 7]])]"
      ]
     },
     "execution_count": 97,
     "metadata": {},
     "output_type": "execute_result"
    }
   ],
   "source": [
    "np.vsplit(a1,2)"
   ]
  },
  {
   "cell_type": "markdown",
   "id": "e9994aee",
   "metadata": {},
   "source": [
    "##### Horizontal Splitting -"
   ]
  },
  {
   "cell_type": "code",
   "execution_count": 98,
   "id": "7a50e470",
   "metadata": {},
   "outputs": [
    {
     "data": {
      "text/plain": [
       "[array([[0],\n",
       "        [2],\n",
       "        [4],\n",
       "        [6]]),\n",
       " array([[1],\n",
       "        [3],\n",
       "        [5],\n",
       "        [7]])]"
      ]
     },
     "execution_count": 98,
     "metadata": {},
     "output_type": "execute_result"
    }
   ],
   "source": [
    "np.hsplit(a1,2)"
   ]
  },
  {
   "cell_type": "code",
   "execution_count": null,
   "id": "d87658b6",
   "metadata": {},
   "outputs": [],
   "source": []
  },
  {
   "cell_type": "code",
   "execution_count": null,
   "id": "4a328e75",
   "metadata": {},
   "outputs": [],
   "source": []
  },
  {
   "cell_type": "code",
   "execution_count": null,
   "id": "029de502",
   "metadata": {},
   "outputs": [],
   "source": []
  },
  {
   "cell_type": "code",
   "execution_count": null,
   "id": "2c9fe73f",
   "metadata": {},
   "outputs": [],
   "source": []
  },
  {
   "cell_type": "code",
   "execution_count": null,
   "id": "c1167114",
   "metadata": {},
   "outputs": [],
   "source": []
  },
  {
   "cell_type": "code",
   "execution_count": null,
   "id": "1a3d5771",
   "metadata": {},
   "outputs": [],
   "source": []
  },
  {
   "cell_type": "code",
   "execution_count": null,
   "id": "7b53491a",
   "metadata": {},
   "outputs": [],
   "source": []
  },
  {
   "cell_type": "markdown",
   "id": "504cafa4",
   "metadata": {},
   "source": [
    "#                                      Advance Indexing "
   ]
  },
  {
   "cell_type": "code",
   "execution_count": null,
   "id": "5a8075a2",
   "metadata": {},
   "outputs": [],
   "source": []
  },
  {
   "cell_type": "markdown",
   "id": "ee11ed67",
   "metadata": {},
   "source": [
    "### Searching in Numpy Array"
   ]
  },
  {
   "cell_type": "markdown",
   "id": "44301770",
   "metadata": {},
   "source": [
    "* #####    np.where(condition):--->> This function returns the indices of the elements in the array that satisfy a given condition. For example, to find the indices of all elements in an array that are greater than 5:"
   ]
  },
  {
   "cell_type": "code",
   "execution_count": 121,
   "id": "28754d53",
   "metadata": {},
   "outputs": [
    {
     "name": "stdout",
     "output_type": "stream",
     "text": [
      "(array([2, 3, 6]),)\n"
     ]
    }
   ],
   "source": [
    "arr = np.array([1, 2, 6, 8, 3, 5, 7])\n",
    "indices = np.where(arr > 5)\n",
    "print(indices)\n"
   ]
  },
  {
   "cell_type": "markdown",
   "id": "308b5eec",
   "metadata": {},
   "source": [
    "* ##### np.argmin(array) and np.argmax(array):---->> These functions return the index of the minimum or maximum element in an array, respectively. For example, to find the index of the minimum element in an array:"
   ]
  },
  {
   "cell_type": "code",
   "execution_count": 124,
   "id": "c01da07e",
   "metadata": {},
   "outputs": [
    {
     "name": "stdout",
     "output_type": "stream",
     "text": [
      "1\n"
     ]
    }
   ],
   "source": [
    "arr = np.array([10,3 , 6, 8, 4, 5, 7])\n",
    "index = np.argmin(arr)\n",
    "print(index)"
   ]
  },
  {
   "cell_type": "code",
   "execution_count": null,
   "id": "6fd098e1",
   "metadata": {},
   "outputs": [],
   "source": []
  },
  {
   "cell_type": "code",
   "execution_count": null,
   "id": "a7a4ca3a",
   "metadata": {},
   "outputs": [],
   "source": []
  },
  {
   "cell_type": "markdown",
   "id": "52c55fa4",
   "metadata": {},
   "source": [
    "### Sorting the Numpy Array"
   ]
  },
  {
   "cell_type": "markdown",
   "id": "2841e0d0",
   "metadata": {},
   "source": [
    "* ##### np.sort(array): ---->> This function returns a sorted copy of the array. \n",
    "\n"
   ]
  },
  {
   "cell_type": "code",
   "execution_count": 125,
   "id": "6408a3ee",
   "metadata": {},
   "outputs": [
    {
     "name": "stdout",
     "output_type": "stream",
     "text": [
      "[1 1 2 3 3 4 5 5 6 9]\n"
     ]
    }
   ],
   "source": [
    "arr = np.array([3, 1, 4, 1, 5, 9, 2, 6, 5, 3])\n",
    "sorted_arr = np.sort(arr)\n",
    "print(sorted_arr)"
   ]
  },
  {
   "cell_type": "markdown",
   "id": "58c4e227",
   "metadata": {},
   "source": [
    "* ##### array.sort(): ---->> This method sorts the array in place (i.e., it modifies the original array rather than returning a copy). "
   ]
  },
  {
   "cell_type": "code",
   "execution_count": 126,
   "id": "cc5e0add",
   "metadata": {},
   "outputs": [
    {
     "name": "stdout",
     "output_type": "stream",
     "text": [
      "[1 1 2 3 3 4 5 5 6 9]\n"
     ]
    }
   ],
   "source": [
    "arr = np.array([3, 1, 4, 1, 5, 9, 2, 6, 5, 3])\n",
    "arr.sort()\n",
    "print(arr)"
   ]
  },
  {
   "cell_type": "markdown",
   "id": "1f5b88f9",
   "metadata": {},
   "source": [
    "* ##### np.argsort(array): --->> This function returns the indices that would sort the array."
   ]
  },
  {
   "cell_type": "code",
   "execution_count": 127,
   "id": "bbf949dc",
   "metadata": {},
   "outputs": [
    {
     "name": "stdout",
     "output_type": "stream",
     "text": [
      "[1 3 6 0 9 2 4 8 7 5]\n"
     ]
    }
   ],
   "source": [
    "arr = np.array([3, 1, 4, 1, 5, 9, 2, 6, 5, 3])\n",
    "sorted_indices = np.argsort(arr)\n",
    "print(sorted_indices)"
   ]
  },
  {
   "cell_type": "code",
   "execution_count": null,
   "id": "ec098ad9",
   "metadata": {},
   "outputs": [],
   "source": []
  },
  {
   "cell_type": "code",
   "execution_count": null,
   "id": "12b7c246",
   "metadata": {},
   "outputs": [],
   "source": []
  },
  {
   "cell_type": "code",
   "execution_count": null,
   "id": "8bf2baf6",
   "metadata": {},
   "outputs": [],
   "source": []
  },
  {
   "cell_type": "code",
   "execution_count": null,
   "id": "15df68cd",
   "metadata": {},
   "outputs": [],
   "source": []
  },
  {
   "cell_type": "code",
   "execution_count": null,
   "id": "73c64d7e",
   "metadata": {},
   "outputs": [],
   "source": []
  },
  {
   "cell_type": "code",
   "execution_count": null,
   "id": "5d4a55c6",
   "metadata": {},
   "outputs": [],
   "source": []
  },
  {
   "cell_type": "code",
   "execution_count": null,
   "id": "dc85689a",
   "metadata": {},
   "outputs": [],
   "source": []
  },
  {
   "cell_type": "markdown",
   "id": "c243fb6b",
   "metadata": {},
   "source": [
    "### Fancy Indexing  ---->"
   ]
  },
  {
   "cell_type": "markdown",
   "id": "88e17cf6",
   "metadata": {},
   "source": [
    "* Fancy Indexing is very helpful when you need to fetch the value from array in which there is no pattern to fetch that value from the simple indexing or slicing"
   ]
  },
  {
   "cell_type": "code",
   "execution_count": 99,
   "id": "5494176a",
   "metadata": {},
   "outputs": [],
   "source": [
    "a=np.arange(24).reshape(6,4)"
   ]
  },
  {
   "cell_type": "code",
   "execution_count": 100,
   "id": "805b7b35",
   "metadata": {},
   "outputs": [
    {
     "data": {
      "text/plain": [
       "array([[ 0,  1,  2,  3],\n",
       "       [ 4,  5,  6,  7],\n",
       "       [ 8,  9, 10, 11],\n",
       "       [12, 13, 14, 15],\n",
       "       [16, 17, 18, 19],\n",
       "       [20, 21, 22, 23]])"
      ]
     },
     "execution_count": 100,
     "metadata": {},
     "output_type": "execute_result"
    }
   ],
   "source": [
    "a"
   ]
  },
  {
   "cell_type": "code",
   "execution_count": 101,
   "id": "3ee44780",
   "metadata": {},
   "outputs": [],
   "source": [
    "# Fetch the first ,second,forth,sixth rows "
   ]
  },
  {
   "cell_type": "code",
   "execution_count": 102,
   "id": "94a508be",
   "metadata": {},
   "outputs": [
    {
     "data": {
      "text/plain": [
       "array([[ 0,  1,  2,  3],\n",
       "       [ 4,  5,  6,  7],\n",
       "       [12, 13, 14, 15],\n",
       "       [20, 21, 22, 23]])"
      ]
     },
     "execution_count": 102,
     "metadata": {},
     "output_type": "execute_result"
    }
   ],
   "source": [
    "a[[0,1,3,5]]"
   ]
  },
  {
   "cell_type": "code",
   "execution_count": 103,
   "id": "0b242b7a",
   "metadata": {},
   "outputs": [],
   "source": [
    "#Fetch the first ,third ,forth columns"
   ]
  },
  {
   "cell_type": "code",
   "execution_count": 104,
   "id": "e774c20f",
   "metadata": {},
   "outputs": [
    {
     "data": {
      "text/plain": [
       "array([[ 0,  2,  3],\n",
       "       [ 4,  6,  7],\n",
       "       [ 8, 10, 11],\n",
       "       [12, 14, 15],\n",
       "       [16, 18, 19],\n",
       "       [20, 22, 23]])"
      ]
     },
     "execution_count": 104,
     "metadata": {},
     "output_type": "execute_result"
    }
   ],
   "source": [
    "a[:,[0,2,3]]"
   ]
  },
  {
   "cell_type": "code",
   "execution_count": null,
   "id": "3de3efa9",
   "metadata": {},
   "outputs": [],
   "source": []
  },
  {
   "cell_type": "code",
   "execution_count": null,
   "id": "c9e3ae81",
   "metadata": {},
   "outputs": [],
   "source": []
  },
  {
   "cell_type": "code",
   "execution_count": null,
   "id": "06864c5f",
   "metadata": {},
   "outputs": [],
   "source": []
  },
  {
   "cell_type": "code",
   "execution_count": null,
   "id": "e3a3140f",
   "metadata": {},
   "outputs": [],
   "source": []
  },
  {
   "cell_type": "code",
   "execution_count": null,
   "id": "449b2bad",
   "metadata": {},
   "outputs": [],
   "source": []
  },
  {
   "cell_type": "code",
   "execution_count": null,
   "id": "6bb8337a",
   "metadata": {},
   "outputs": [],
   "source": []
  },
  {
   "cell_type": "code",
   "execution_count": null,
   "id": "a8a64060",
   "metadata": {},
   "outputs": [],
   "source": []
  },
  {
   "cell_type": "code",
   "execution_count": null,
   "id": "f02f89bb",
   "metadata": {},
   "outputs": [],
   "source": []
  },
  {
   "cell_type": "code",
   "execution_count": null,
   "id": "550939e5",
   "metadata": {},
   "outputs": [],
   "source": []
  },
  {
   "cell_type": "code",
   "execution_count": null,
   "id": "52115edc",
   "metadata": {},
   "outputs": [],
   "source": []
  },
  {
   "cell_type": "code",
   "execution_count": null,
   "id": "434ca650",
   "metadata": {},
   "outputs": [],
   "source": []
  },
  {
   "cell_type": "markdown",
   "id": "961715da",
   "metadata": {},
   "source": [
    "### Boolean Indexing ----->"
   ]
  },
  {
   "cell_type": "markdown",
   "id": "11b72081",
   "metadata": {},
   "source": [
    "\n",
    "* NumPy allows you to filter arrays based on certain conditions using Boolean indexing."
   ]
  },
  {
   "cell_type": "code",
   "execution_count": 105,
   "id": "924ed923",
   "metadata": {},
   "outputs": [],
   "source": [
    "# Fetch all the odd values "
   ]
  },
  {
   "cell_type": "code",
   "execution_count": 106,
   "id": "72387eca",
   "metadata": {},
   "outputs": [
    {
     "data": {
      "text/plain": [
       "array([ 1,  3,  5,  7,  9, 11, 13, 15, 17, 19, 21, 23])"
      ]
     },
     "execution_count": 106,
     "metadata": {},
     "output_type": "execute_result"
    }
   ],
   "source": [
    "a[a%2==1]"
   ]
  },
  {
   "cell_type": "code",
   "execution_count": 107,
   "id": "a47d4eac",
   "metadata": {},
   "outputs": [],
   "source": [
    "# Fetch all the values which is even and gretaer than 12"
   ]
  },
  {
   "cell_type": "code",
   "execution_count": 108,
   "id": "4218585d",
   "metadata": {},
   "outputs": [],
   "source": [
    "# fetch all the value which is not divisible by 7"
   ]
  },
  {
   "cell_type": "code",
   "execution_count": 109,
   "id": "3e6a0f22",
   "metadata": {},
   "outputs": [
    {
     "data": {
      "text/plain": [
       "array([ 1,  2,  3,  4,  5,  6,  8,  9, 10, 11, 12, 13, 15, 16, 17, 18, 19,\n",
       "       20, 22, 23])"
      ]
     },
     "execution_count": 109,
     "metadata": {},
     "output_type": "execute_result"
    }
   ],
   "source": [
    "a[~(a % 7 == 0)]"
   ]
  },
  {
   "cell_type": "markdown",
   "id": "af92a89c",
   "metadata": {},
   "source": [
    "### Broadcasting"
   ]
  },
  {
   "cell_type": "markdown",
   "id": "de604dca",
   "metadata": {},
   "source": [
    "* The term broadcasting describes how NumPy treats arrays with different shapes during arithmetic operations.\n",
    "\n",
    "* The smaller array is “broadcast” across the larger array so that they have compatible shapes."
   ]
  },
  {
   "cell_type": "code",
   "execution_count": 110,
   "id": "1440e4e7",
   "metadata": {},
   "outputs": [
    {
     "name": "stdout",
     "output_type": "stream",
     "text": [
      "[[0 1 2]\n",
      " [3 4 5]]\n",
      "[[ 6  7  8]\n",
      " [ 9 10 11]]\n",
      "[[ 6  8 10]\n",
      " [12 14 16]]\n"
     ]
    }
   ],
   "source": [
    "# same shape\n",
    "a = np.arange(6).reshape(2,3)\n",
    "b = np.arange(6,12).reshape(2,3)\n",
    "\n",
    "print(a)\n",
    "print(b)\n",
    "\n",
    "print(a+b)"
   ]
  },
  {
   "cell_type": "code",
   "execution_count": 111,
   "id": "9009c3b8",
   "metadata": {},
   "outputs": [
    {
     "name": "stdout",
     "output_type": "stream",
     "text": [
      "[[0 1 2]\n",
      " [3 4 5]]\n",
      "[[0 1 2]]\n",
      "[[0 2 4]\n",
      " [3 5 7]]\n"
     ]
    }
   ],
   "source": [
    "# diff shape\n",
    "a = np.arange(6).reshape(2,3)\n",
    "b = np.arange(3).reshape(1,3)\n",
    "\n",
    "print(a)\n",
    "print(b)\n",
    "\n",
    "print(a+b)"
   ]
  },
  {
   "attachments": {
    "Screenshot%202023-04-25%20at%2011.42.29%20AM.png": {
     "image/png": "[encoded data removed]"
    }
   },
   "cell_type": "markdown",
   "id": "e195ac24",
   "metadata": {},
   "source": [
    "![Screenshot%202023-04-25%20at%2011.42.29%20AM.png](attachment:Screenshot%202023-04-25%20at%2011.42.29%20AM.png)"
   ]
  },
  {
   "cell_type": "code",
   "execution_count": 112,
   "id": "2485d38b",
   "metadata": {},
   "outputs": [
    {
     "name": "stdout",
     "output_type": "stream",
     "text": [
      "[[ 0  1  2]\n",
      " [ 3  4  5]\n",
      " [ 6  7  8]\n",
      " [ 9 10 11]]\n",
      "[0 1 2]\n",
      "[[ 0  2  4]\n",
      " [ 3  5  7]\n",
      " [ 6  8 10]\n",
      " [ 9 11 13]]\n"
     ]
    }
   ],
   "source": [
    "# More examples\n",
    "\n",
    "a = np.arange(12).reshape(4,3)\n",
    "b = np.arange(3)\n",
    "\n",
    "print(a)\n",
    "print(b)\n",
    "\n",
    "print(a+b)"
   ]
  },
  {
   "cell_type": "code",
   "execution_count": 113,
   "id": "ce66bae7",
   "metadata": {},
   "outputs": [
    {
     "name": "stdout",
     "output_type": "stream",
     "text": [
      "[[0 1 2]]\n",
      "[[0]\n",
      " [1]\n",
      " [2]]\n",
      "[[0 1 2]\n",
      " [1 2 3]\n",
      " [2 3 4]]\n"
     ]
    }
   ],
   "source": [
    "a = np.arange(3).reshape(1,3)\n",
    "b = np.arange(3).reshape(3,1)\n",
    "\n",
    "print(a)\n",
    "print(b)\n",
    "\n",
    "print(a+b)"
   ]
  },
  {
   "cell_type": "code",
   "execution_count": 114,
   "id": "d1a1bba8",
   "metadata": {},
   "outputs": [
    {
     "name": "stdout",
     "output_type": "stream",
     "text": [
      "[[0 1 2]]\n",
      "[[0]\n",
      " [1]\n",
      " [2]\n",
      " [3]]\n",
      "[[0 1 2]\n",
      " [1 2 3]\n",
      " [2 3 4]\n",
      " [3 4 5]]\n"
     ]
    }
   ],
   "source": [
    "a = np.arange(3).reshape(1,3)\n",
    "b = np.arange(4).reshape(4,1)\n",
    "\n",
    "print(a)\n",
    "print(b)\n",
    "\n",
    "print(a + b)"
   ]
  },
  {
   "cell_type": "markdown",
   "id": "fa59c321",
   "metadata": {},
   "source": [
    "### Plotting Graphs"
   ]
  },
  {
   "cell_type": "code",
   "execution_count": 115,
   "id": "9083dde6",
   "metadata": {},
   "outputs": [
    {
     "data": {
      "text/plain": [
       "[<matplotlib.lines.Line2D at 0x1153ae580>]"
      ]
     },
     "execution_count": 115,
     "metadata": {},
     "output_type": "execute_result"
    },
    {
     "data": {
      "image/png": "[encoded data removed]",
      "text/plain": [
       "<Figure size 640x480 with 1 Axes>"
      ]
     },
     "metadata": {},
     "output_type": "display_data"
    }
   ],
   "source": [
    "# plotting a 2D plot\n",
    "# x = y\n",
    "import matplotlib.pyplot as plt\n",
    "\n",
    "x = np.linspace(-10,10,100)\n",
    "y = x\n",
    "\n",
    "plt.plot(x,y)"
   ]
  },
  {
   "cell_type": "code",
   "execution_count": 116,
   "id": "8eb24f02",
   "metadata": {},
   "outputs": [
    {
     "data": {
      "text/plain": [
       "[<matplotlib.lines.Line2D at 0x11566a9d0>]"
      ]
     },
     "execution_count": 116,
     "metadata": {},
     "output_type": "execute_result"
    },
    {
     "data": {
      "image/png": "[encoded data removed]",
      "text/plain": [
       "<Figure size 640x480 with 1 Axes>"
      ]
     },
     "metadata": {},
     "output_type": "display_data"
    }
   ],
   "source": [
    "# y = x^2\n",
    "x = np.linspace(-10,10,100)\n",
    "y = x**2\n",
    "\n",
    "plt.plot(x,y)"
   ]
  },
  {
   "cell_type": "code",
   "execution_count": 117,
   "id": "70b06395",
   "metadata": {},
   "outputs": [
    {
     "data": {
      "text/plain": [
       "[<matplotlib.lines.Line2D at 0x115836a00>]"
      ]
     },
     "execution_count": 117,
     "metadata": {},
     "output_type": "execute_result"
    },
    {
     "data": {
      "image/png": "[encoded data removed]",
      "text/plain": [
       "<Figure size 640x480 with 1 Axes>"
      ]
     },
     "metadata": {},
     "output_type": "display_data"
    }
   ],
   "source": [
    "# y = sin(x)\n",
    "x = np.linspace(-10,10,100)\n",
    "y = np.sin(x)\n",
    "\n",
    "plt.plot(x,y)"
   ]
  },
  {
   "cell_type": "code",
   "execution_count": 118,
   "id": "1cc2ba39",
   "metadata": {},
   "outputs": [
    {
     "name": "stderr",
     "output_type": "stream",
     "text": [
      "/var/folders/91/pq4hx0p501ddzx7jb44vpfs80000gn/T/ipykernel_18471/2564014901.py:3: RuntimeWarning: invalid value encountered in log\n",
      "  y = x * np.log(x)\n"
     ]
    },
    {
     "data": {
      "text/plain": [
       "[<matplotlib.lines.Line2D at 0x115aafee0>]"
      ]
     },
     "execution_count": 118,
     "metadata": {},
     "output_type": "execute_result"
    },
    {
     "data": {
      "image/png": "[encoded data removed]",
      "text/plain": [
       "<Figure size 640x480 with 1 Axes>"
      ]
     },
     "metadata": {},
     "output_type": "display_data"
    }
   ],
   "source": [
    "# y = xlog(x)\n",
    "x = np.linspace(-10,10,100)\n",
    "y = x * np.log(x)\n",
    "\n",
    "plt.plot(x,y)"
   ]
  },
  {
   "cell_type": "code",
   "execution_count": 119,
   "id": "a77a73a8",
   "metadata": {},
   "outputs": [
    {
     "data": {
      "text/plain": [
       "[<matplotlib.lines.Line2D at 0x115b33b50>]"
      ]
     },
     "execution_count": 119,
     "metadata": {},
     "output_type": "execute_result"
    },
    {
     "data": {
      "image/png": "[encoded data removed]",
      "text/plain": [
       "<Figure size 640x480 with 1 Axes>"
      ]
     },
     "metadata": {},
     "output_type": "display_data"
    }
   ],
   "source": [
    "# sigmoid\n",
    "x = np.linspace(-10,10,100)\n",
    "y = 1/(1+np.exp(-x))\n",
    "\n",
    "plt.plot(x,y)"
   ]
  },
  {
   "cell_type": "code",
   "execution_count": null,
   "id": "a9b51427",
   "metadata": {},
   "outputs": [],
   "source": []
  },
  {
   "cell_type": "code",
   "execution_count": null,
   "id": "19dbcbc4",
   "metadata": {},
   "outputs": [],
   "source": []
  }
 ],
 "metadata": {
  "kernelspec": {
   "display_name": "Python 3 (ipykernel)",
   "language": "python",
   "name": "python3"
  },
  "language_info": {
   "codemirror_mode": {
    "name": "ipython",
    "version": 3
   },
   "file_extension": ".py",
   "mimetype": "text/x-python",
   "name": "python",
   "nbconvert_exporter": "python",
   "pygments_lexer": "ipython3",
   "version": "3.9.13"
  }
 },
 "nbformat": 4,
 "nbformat_minor": 5
}
